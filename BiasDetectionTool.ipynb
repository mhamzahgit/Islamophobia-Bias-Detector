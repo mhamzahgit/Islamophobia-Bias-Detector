{
 "cells": [
  {
   "cell_type": "markdown",
   "id": "75fd06ba",
   "metadata": {
    "id": "75fd06ba"
   },
   "source": [
    "<h2>BIAS DETECTION IN TWEETS TOWARDS HIJAB IN FRANCE VS IRAN</h2>"
   ]
  },
  {
   "cell_type": "code",
   "execution_count": 1,
   "id": "92e4ed03",
   "metadata": {
    "colab": {
     "base_uri": "https://localhost:8080/"
    },
    "executionInfo": {
     "elapsed": 2418,
     "status": "ok",
     "timestamp": 1668111548621,
     "user": {
      "displayName": "Danagul Azimzhanova",
      "userId": "07294101290954755816"
     },
     "user_tz": -180
    },
    "id": "92e4ed03",
    "outputId": "23d53bd6-1142-46e1-ad95-e909d405d44a"
   },
   "outputs": [
    {
     "name": "stdout",
     "output_type": "stream",
     "text": [
      "Collecting git+https://github.com/JustAnotherArchivist/snscrape.git\n",
      "  Cloning https://github.com/JustAnotherArchivist/snscrape.git to c:\\users\\imaaz\\appdata\\local\\temp\\pip-req-build-3v5r43mo\n",
      "  Resolved https://github.com/JustAnotherArchivist/snscrape.git to commit 46a603053cfbc0ce3c54d43d7e1ac2427fa82b4d\n",
      "  Preparing metadata (setup.py): started\n",
      "  Preparing metadata (setup.py): finished with status 'done'\n",
      "Requirement already satisfied: requests[socks] in c:\\users\\imaaz\\appdata\\local\\programs\\python\\python310\\lib\\site-packages (from snscrape==0.4.3.20220107.dev65+g46a6030) (2.28.1)\n",
      "Requirement already satisfied: lxml in c:\\users\\imaaz\\appdata\\local\\programs\\python\\python310\\lib\\site-packages (from snscrape==0.4.3.20220107.dev65+g46a6030) (4.9.1)\n",
      "Requirement already satisfied: beautifulsoup4 in c:\\users\\imaaz\\appdata\\local\\programs\\python\\python310\\lib\\site-packages (from snscrape==0.4.3.20220107.dev65+g46a6030) (4.11.1)\n",
      "Requirement already satisfied: filelock in c:\\users\\imaaz\\appdata\\local\\programs\\python\\python310\\lib\\site-packages (from snscrape==0.4.3.20220107.dev65+g46a6030) (3.8.0)\n",
      "Requirement already satisfied: soupsieve>1.2 in c:\\users\\imaaz\\appdata\\local\\programs\\python\\python310\\lib\\site-packages (from beautifulsoup4->snscrape==0.4.3.20220107.dev65+g46a6030) (2.3.2.post1)\n",
      "Requirement already satisfied: idna<4,>=2.5 in c:\\users\\imaaz\\appdata\\local\\programs\\python\\python310\\lib\\site-packages (from requests[socks]->snscrape==0.4.3.20220107.dev65+g46a6030) (3.3)\n",
      "Requirement already satisfied: charset-normalizer<3,>=2 in c:\\users\\imaaz\\appdata\\local\\programs\\python\\python310\\lib\\site-packages (from requests[socks]->snscrape==0.4.3.20220107.dev65+g46a6030) (2.1.0)\n",
      "Requirement already satisfied: urllib3<1.27,>=1.21.1 in c:\\users\\imaaz\\appdata\\local\\programs\\python\\python310\\lib\\site-packages (from requests[socks]->snscrape==0.4.3.20220107.dev65+g46a6030) (1.26.11)\n",
      "Requirement already satisfied: certifi>=2017.4.17 in c:\\users\\imaaz\\appdata\\local\\programs\\python\\python310\\lib\\site-packages (from requests[socks]->snscrape==0.4.3.20220107.dev65+g46a6030) (2022.6.15)\n",
      "Requirement already satisfied: PySocks!=1.5.7,>=1.5.6 in c:\\users\\imaaz\\appdata\\local\\programs\\python\\python310\\lib\\site-packages\\pysocks-1.7.1-py3.10.egg (from requests[socks]->snscrape==0.4.3.20220107.dev65+g46a6030) (1.7.1)\n"
     ]
    },
    {
     "name": "stderr",
     "output_type": "stream",
     "text": [
      "  Running command git clone --filter=blob:none --quiet https://github.com/JustAnotherArchivist/snscrape.git 'C:\\Users\\imaaz\\AppData\\Local\\Temp\\pip-req-build-3v5r43mo'\n",
      "\n",
      "[notice] A new release of pip available: 22.3 -> 22.3.1\n",
      "[notice] To update, run: python.exe -m pip install --upgrade pip\n"
     ]
    }
   ],
   "source": [
    "!pip3 install git+https://github.com/JustAnotherArchivist/snscrape.git"
   ]
  },
  {
   "cell_type": "code",
   "execution_count": 2,
   "id": "vnIx6X_NOnGr",
   "metadata": {
    "colab": {
     "base_uri": "https://localhost:8080/"
    },
    "executionInfo": {
     "elapsed": 2684,
     "status": "ok",
     "timestamp": 1668111551301,
     "user": {
      "displayName": "Danagul Azimzhanova",
      "userId": "07294101290954755816"
     },
     "user_tz": -180
    },
    "id": "vnIx6X_NOnGr",
    "outputId": "eeb88c9a-c7ba-47b5-c08a-bcfce470473b"
   },
   "outputs": [
    {
     "name": "stdout",
     "output_type": "stream",
     "text": [
      "Requirement already satisfied: snscrape in c:\\users\\imaaz\\appdata\\local\\programs\\python\\python310\\lib\\site-packages (0.4.3.20220107.dev65+g46a6030)\n",
      "Requirement already satisfied: requests[socks] in c:\\users\\imaaz\\appdata\\local\\programs\\python\\python310\\lib\\site-packages (from snscrape) (2.28.1)\n",
      "Requirement already satisfied: lxml in c:\\users\\imaaz\\appdata\\local\\programs\\python\\python310\\lib\\site-packages (from snscrape) (4.9.1)\n",
      "Requirement already satisfied: beautifulsoup4 in c:\\users\\imaaz\\appdata\\local\\programs\\python\\python310\\lib\\site-packages (from snscrape) (4.11.1)\n",
      "Requirement already satisfied: filelock in c:\\users\\imaaz\\appdata\\local\\programs\\python\\python310\\lib\\site-packages (from snscrape) (3.8.0)\n",
      "Requirement already satisfied: soupsieve>1.2 in c:\\users\\imaaz\\appdata\\local\\programs\\python\\python310\\lib\\site-packages (from beautifulsoup4->snscrape) (2.3.2.post1)\n",
      "Requirement already satisfied: urllib3<1.27,>=1.21.1 in c:\\users\\imaaz\\appdata\\local\\programs\\python\\python310\\lib\\site-packages (from requests[socks]->snscrape) (1.26.11)\n",
      "Requirement already satisfied: idna<4,>=2.5 in c:\\users\\imaaz\\appdata\\local\\programs\\python\\python310\\lib\\site-packages (from requests[socks]->snscrape) (3.3)\n",
      "Requirement already satisfied: certifi>=2017.4.17 in c:\\users\\imaaz\\appdata\\local\\programs\\python\\python310\\lib\\site-packages (from requests[socks]->snscrape) (2022.6.15)\n",
      "Requirement already satisfied: charset-normalizer<3,>=2 in c:\\users\\imaaz\\appdata\\local\\programs\\python\\python310\\lib\\site-packages (from requests[socks]->snscrape) (2.1.0)\n",
      "Requirement already satisfied: PySocks!=1.5.7,>=1.5.6 in c:\\users\\imaaz\\appdata\\local\\programs\\python\\python310\\lib\\site-packages\\pysocks-1.7.1-py3.10.egg (from requests[socks]->snscrape) (1.7.1)\n"
     ]
    },
    {
     "name": "stderr",
     "output_type": "stream",
     "text": [
      "\n",
      "[notice] A new release of pip available: 22.3 -> 22.3.1\n",
      "[notice] To update, run: python.exe -m pip install --upgrade pip\n"
     ]
    }
   ],
   "source": [
    "!pip install snscrape"
   ]
  },
  {
   "cell_type": "code",
   "execution_count": 3,
   "id": "DZIabbUXPThO",
   "metadata": {
    "colab": {
     "base_uri": "https://localhost:8080/"
    },
    "executionInfo": {
     "elapsed": 4478,
     "status": "ok",
     "timestamp": 1668111523949,
     "user": {
      "displayName": "Danagul Azimzhanova",
      "userId": "07294101290954755816"
     },
     "user_tz": -180
    },
    "id": "DZIabbUXPThO",
    "outputId": "77b77b30-f2f2-4d87-b2ce-5348b470eba6"
   },
   "outputs": [
    {
     "name": "stdout",
     "output_type": "stream",
     "text": [
      "Requirement already satisfied: nltk in c:\\users\\imaaz\\appdata\\local\\programs\\python\\python310\\lib\\site-packages (3.7)\n",
      "Requirement already satisfied: joblib in c:\\users\\imaaz\\appdata\\local\\programs\\python\\python310\\lib\\site-packages (from nltk) (1.1.0)\n",
      "Requirement already satisfied: tqdm in c:\\users\\imaaz\\appdata\\local\\programs\\python\\python310\\lib\\site-packages (from nltk) (4.64.0)\n",
      "Requirement already satisfied: regex>=2021.8.3 in c:\\users\\imaaz\\appdata\\local\\programs\\python\\python310\\lib\\site-packages (from nltk) (2022.8.17)\n",
      "Requirement already satisfied: click in c:\\users\\imaaz\\appdata\\local\\programs\\python\\python310\\lib\\site-packages (from nltk) (8.1.3)\n",
      "Requirement already satisfied: colorama in c:\\users\\imaaz\\appdata\\local\\programs\\python\\python310\\lib\\site-packages (from click->nltk) (0.4.5)\n"
     ]
    },
    {
     "name": "stderr",
     "output_type": "stream",
     "text": [
      "\n",
      "[notice] A new release of pip available: 22.3 -> 22.3.1\n",
      "[notice] To update, run: python.exe -m pip install --upgrade pip\n"
     ]
    }
   ],
   "source": [
    "!pip install nltk"
   ]
  },
  {
   "cell_type": "code",
   "execution_count": 4,
   "id": "AeTxdIxXQJ7Z",
   "metadata": {
    "colab": {
     "base_uri": "https://localhost:8080/",
     "height": 344
    },
    "executionInfo": {
     "elapsed": 3633,
     "status": "ok",
     "timestamp": 1668111528640,
     "user": {
      "displayName": "Danagul Azimzhanova",
      "userId": "07294101290954755816"
     },
     "user_tz": -180
    },
    "id": "AeTxdIxXQJ7Z",
    "outputId": "9f55435b-1727-48e6-872c-148bd0c23e9e"
   },
   "outputs": [
    {
     "name": "stdout",
     "output_type": "stream",
     "text": [
      "Collecting keras-preprocessing==1.0.6\n",
      "  Downloading Keras_Preprocessing-1.0.6-py2.py3-none-any.whl (59 kB)\n",
      "     ---------------------------------------- 59.1/59.1 kB 3.1 MB/s eta 0:00:00\n",
      "Requirement already satisfied: six>=1.9.0 in c:\\users\\imaaz\\appdata\\local\\programs\\python\\python310\\lib\\site-packages (from keras-preprocessing==1.0.6) (1.16.0)\n",
      "Requirement already satisfied: numpy>=1.9.1 in c:\\users\\imaaz\\appdata\\local\\programs\\python\\python310\\lib\\site-packages (from keras-preprocessing==1.0.6) (1.23.1)\n",
      "Installing collected packages: keras-preprocessing\n",
      "  Attempting uninstall: keras-preprocessing\n",
      "    Found existing installation: Keras-Preprocessing 1.1.2\n",
      "    Uninstalling Keras-Preprocessing-1.1.2:\n",
      "      Successfully uninstalled Keras-Preprocessing-1.1.2\n",
      "Successfully installed keras-preprocessing-1.0.6\n"
     ]
    },
    {
     "name": "stderr",
     "output_type": "stream",
     "text": [
      "ERROR: pip's dependency resolver does not currently take into account all the packages that are installed. This behaviour is the source of the following dependency conflicts.\n",
      "tensorflow 2.10.0 requires keras-preprocessing>=1.1.1, but you have keras-preprocessing 1.0.6 which is incompatible.\n",
      "\n",
      "[notice] A new release of pip available: 22.3 -> 22.3.1\n",
      "[notice] To update, run: python.exe -m pip install --upgrade pip\n"
     ]
    }
   ],
   "source": [
    "!pip install keras-preprocessing==1.0.6"
   ]
  },
  {
   "cell_type": "code",
   "execution_count": 5,
   "id": "fb1WuDaDKM04",
   "metadata": {
    "colab": {
     "base_uri": "https://localhost:8080/"
    },
    "executionInfo": {
     "elapsed": 1729,
     "status": "ok",
     "timestamp": 1668095941865,
     "user": {
      "displayName": "Danagul Azimzhanova",
      "userId": "07294101290954755816"
     },
     "user_tz": -180
    },
    "id": "fb1WuDaDKM04",
    "outputId": "3325cada-68b6-4b1c-bdd9-de3033ae02d1"
   },
   "outputs": [
    {
     "name": "stderr",
     "output_type": "stream",
     "text": [
      "ERROR: Could not find a version that satisfies the requirement keras.layers.recurrent (from versions: none)\n",
      "ERROR: No matching distribution found for keras.layers.recurrent\n",
      "\n",
      "[notice] A new release of pip available: 22.3 -> 22.3.1\n",
      "[notice] To update, run: python.exe -m pip install --upgrade pip\n"
     ]
    }
   ],
   "source": [
    "!pip install keras.layers.recurrent"
   ]
  },
  {
   "cell_type": "code",
   "execution_count": 6,
   "id": "AFmEhTeNPU7g",
   "metadata": {
    "id": "AFmEhTeNPU7g"
   },
   "outputs": [],
   "source": [
    "from tensorflow.keras.layers import Activation, Dense"
   ]
  },
  {
   "cell_type": "code",
   "execution_count": 7,
   "id": "8YlXnR3uk_CI",
   "metadata": {
    "colab": {
     "base_uri": "https://localhost:8080/",
     "height": 905
    },
    "executionInfo": {
     "elapsed": 3979,
     "status": "ok",
     "timestamp": 1668111579872,
     "user": {
      "displayName": "Danagul Azimzhanova",
      "userId": "07294101290954755816"
     },
     "user_tz": -180
    },
    "id": "8YlXnR3uk_CI",
    "outputId": "6e556ce2-3101-4ba3-f0ba-b6f6f9953471"
   },
   "outputs": [
    {
     "name": "stderr",
     "output_type": "stream",
     "text": [
      "ERROR: Could not find a version that satisfies the requirement tensorflow==2.2.0 (from versions: 2.8.0rc1, 2.8.0, 2.8.1, 2.8.2, 2.8.3, 2.9.0rc0, 2.9.0rc1, 2.9.0rc2, 2.9.0, 2.9.1, 2.9.2, 2.10.0rc0, 2.10.0rc1, 2.10.0rc2, 2.10.0rc3, 2.10.0, 2.11.0rc0, 2.11.0rc1, 2.11.0rc2)\n",
      "ERROR: No matching distribution found for tensorflow==2.2.0\n",
      "\n",
      "[notice] A new release of pip available: 22.3 -> 22.3.1\n",
      "[notice] To update, run: python.exe -m pip install --upgrade pip\n"
     ]
    }
   ],
   "source": [
    "!pip install tensorflow==2.2.0"
   ]
  },
  {
   "cell_type": "code",
   "execution_count": 9,
   "id": "f1b61490",
   "metadata": {},
   "outputs": [
    {
     "name": "stdout",
     "output_type": "stream",
     "text": [
      "Collecting torch\n",
      "  Downloading torch-1.13.0-cp310-cp310-win_amd64.whl (167.3 MB)\n",
      "     -------------------------------------- 167.3/167.3 MB 2.3 MB/s eta 0:00:00\n",
      "Requirement already satisfied: typing-extensions in c:\\users\\imaaz\\appdata\\local\\programs\\python\\python310\\lib\\site-packages (from torch) (4.4.0)\n",
      "Installing collected packages: torch\n",
      "Successfully installed torch-1.13.0\n"
     ]
    },
    {
     "name": "stderr",
     "output_type": "stream",
     "text": [
      "\n",
      "[notice] A new release of pip available: 22.3 -> 22.3.1\n",
      "[notice] To update, run: python.exe -m pip install --upgrade pip\n"
     ]
    }
   ],
   "source": [
    "!pip install torch"
   ]
  },
  {
   "cell_type": "code",
   "execution_count": 10,
   "id": "245053c4",
   "metadata": {
    "colab": {
     "base_uri": "https://localhost:8080/",
     "height": 511
    },
    "executionInfo": {
     "elapsed": 2250,
     "status": "error",
     "timestamp": 1668111594906,
     "user": {
      "displayName": "Danagul Azimzhanova",
      "userId": "07294101290954755816"
     },
     "user_tz": -180
    },
    "id": "245053c4",
    "outputId": "5125e6e3-e01a-4970-8f0d-0c58a3f40691"
   },
   "outputs": [
    {
     "name": "stderr",
     "output_type": "stream",
     "text": [
      "c:\\Users\\imaaz\\AppData\\Local\\Programs\\Python\\Python310\\lib\\site-packages\\tqdm\\auto.py:22: TqdmWarning: IProgress not found. Please update jupyter and ipywidgets. See https://ipywidgets.readthedocs.io/en/stable/user_install.html\n",
      "  from .autonotebook import tqdm as notebook_tqdm\n",
      "[nltk_data] Downloading package stopwords to\n",
      "[nltk_data]     C:\\Users\\imaaz\\AppData\\Roaming\\nltk_data...\n",
      "[nltk_data]   Package stopwords is already up-to-date!\n",
      "[nltk_data] Downloading package punkt to\n",
      "[nltk_data]     C:\\Users\\imaaz\\AppData\\Roaming\\nltk_data...\n",
      "[nltk_data]   Package punkt is already up-to-date!\n",
      "[nltk_data] Downloading package wordnet to\n",
      "[nltk_data]     C:\\Users\\imaaz\\AppData\\Roaming\\nltk_data...\n",
      "[nltk_data]   Package wordnet is already up-to-date!\n",
      "[nltk_data] Downloading package omw-1.4 to\n",
      "[nltk_data]     C:\\Users\\imaaz\\AppData\\Roaming\\nltk_data...\n",
      "[nltk_data]   Package omw-1.4 is already up-to-date!\n",
      "[nltk_data] Downloading package vader_lexicon to\n",
      "[nltk_data]     C:\\Users\\imaaz\\AppData\\Roaming\\nltk_data...\n",
      "[nltk_data]   Package vader_lexicon is already up-to-date!\n"
     ]
    },
    {
     "data": {
      "text/plain": [
       "True"
      ]
     },
     "execution_count": 10,
     "metadata": {},
     "output_type": "execute_result"
    }
   ],
   "source": [
    "import snscrape.modules.twitter as sntwitter\n",
    "import pandas as pd\n",
    "import nltk \n",
    "import sys\n",
    "import re\n",
    "import string\n",
    "import numpy as np\n",
    "import matplotlib.pyplot as plt\n",
    "import keras\n",
    "%matplotlib inline\n",
    "from textblob import TextBlob\n",
    "from nltk.sentiment.vader import SentimentIntensityAnalyzer\n",
    "from nltk.stem import SnowballStemmer\n",
    "from sklearn.feature_extraction.text import CountVectorizer\n",
    "from sklearn.feature_extraction.text import TfidfVectorizer\n",
    "from sklearn.model_selection import train_test_split\n",
    "from sklearn.metrics import confusion_matrix, accuracy_score, recall_score, precision_score, f1_score, classification_report\n",
    "from sklearn.naive_bayes import MultinomialNB, GaussianNB\n",
    "from sklearn import svm\n",
    "from collections import Counter\n",
    "#from keras.layers.recurrent import LSTM\n",
    "\n",
    "import torch\n",
    "from torch.utils.data import DataLoader, TensorDataset\n",
    "nltk.download('stopwords')\n",
    "nltk.download('punkt')\n",
    "nltk.download('wordnet')\n",
    "nltk.download('omw-1.4')\n",
    "nltk.download('vader_lexicon')"
   ]
  },
  {
   "cell_type": "markdown",
   "id": "0b2ffc97",
   "metadata": {
    "id": "0b2ffc97"
   },
   "source": [
    "**No need to run next 2 cells. They are used for inital tweet scraping using snscraper**\n",
    "\n",
    "**Next 3 cells after those are for creating dataframes and storing into CSV Files**"
   ]
  },
  {
   "cell_type": "code",
   "execution_count": null,
   "id": "b5a84b72",
   "metadata": {
    "colab": {
     "base_uri": "https://localhost:8080/",
     "height": 198
    },
    "executionInfo": {
     "elapsed": 430,
     "status": "error",
     "timestamp": 1668097675172,
     "user": {
      "displayName": "Danagul Azimzhanova",
      "userId": "07294101290954755816"
     },
     "user_tz": -180
    },
    "id": "b5a84b72",
    "outputId": "6d9d0d4a-5c06-4121-9486-025828ce4f0b"
   },
   "outputs": [],
   "source": [
    "#Scraping Tweets for France Dataset\n",
    "\n",
    "maxTweets = 50000\n",
    "\n",
    "# Creating list to append tweet data to\n",
    "france_tweets = []\n",
    "\n",
    "\n",
    "for i,tweet in enumerate(sntwitter.TwitterSearchScraper('hijab OR #hijab OR hijabi OR #hijabi OR #hijabban AND (France OR french OR #france OR #french) since:2021-01-01 until:2022-11-03 lang:en').get_items()):\n",
    "    # print(i)\n",
    "    if i > maxTweets:\n",
    "        break\n",
    "    france_tweets.append([tweet.date, tweet.id, tweet.content, tweet.user.username])"
   ]
  },
  {
   "cell_type": "code",
   "execution_count": null,
   "id": "56c9b4d1",
   "metadata": {
    "id": "56c9b4d1",
    "outputId": "677e79b8-3a8e-4a39-8685-4b2b30f64e99",
    "scrolled": false
   },
   "outputs": [],
   "source": [
    "#Scraping Tweets for france Dataset\n",
    "maxTweets = 50000\n",
    "\n",
    "# Creating list to append tweet data to\n",
    "iran_tweets = []\n",
    "\n",
    "\n",
    "for i,tweet in enumerate(sntwitter.TwitterSearchScraper('hijab OR #hijab OR hijabi OR #hijabi OR #hijabban  AND (iran OR irani OR #iran OR #irani) since:2021-01-01 until:2022-11-03 lang:en').get_items()):\n",
    "    # print(i)\n",
    "    if i > maxTweets:\n",
    "        break\n",
    "    iran_tweets.append([tweet.date, tweet.id, tweet.content, tweet.user.username])\n",
    "    \n"
   ]
  },
  {
   "cell_type": "code",
   "execution_count": null,
   "id": "55a39a65",
   "metadata": {
    "colab": {
     "base_uri": "https://localhost:8080/",
     "height": 49
    },
    "executionInfo": {
     "elapsed": 13,
     "status": "ok",
     "timestamp": 1668097678670,
     "user": {
      "displayName": "Danagul Azimzhanova",
      "userId": "07294101290954755816"
     },
     "user_tz": -180
    },
    "id": "55a39a65",
    "outputId": "2fd897e9-c4c8-435b-beaf-a08861404d6f"
   },
   "outputs": [],
   "source": [
    "# Creating a dataframe from the tweets list above\n",
    "france_tweets_df = pd.DataFrame(france_tweets, columns=['Datetime', 'Tweet Id', 'Text', 'Username'])\n",
    "\n",
    "# Display first 5 entries from dataframe\n",
    "france_tweets_df.head()"
   ]
  },
  {
   "cell_type": "code",
   "execution_count": null,
   "id": "2135a07b",
   "metadata": {
    "colab": {
     "base_uri": "https://localhost:8080/",
     "height": 232
    },
    "executionInfo": {
     "elapsed": 640,
     "status": "error",
     "timestamp": 1668097799163,
     "user": {
      "displayName": "Danagul Azimzhanova",
      "userId": "07294101290954755816"
     },
     "user_tz": -180
    },
    "id": "2135a07b",
    "outputId": "0d4d8c23-f784-4bbb-a179-62f566112944"
   },
   "outputs": [],
   "source": [
    "# Creating a dataframe from the tweets list above\n",
    "iran_tweets_df = pd.DataFrame(iran_tweets, columns=['Datetime', 'Tweet Id', 'Text', 'Username'])\n",
    "\n",
    "# Display first 5 entries from dataframe\n",
    "iran_tweets_df.head()"
   ]
  },
  {
   "cell_type": "code",
   "execution_count": null,
   "id": "d9988747",
   "metadata": {
    "colab": {
     "base_uri": "https://localhost:8080/",
     "height": 198
    },
    "executionInfo": {
     "elapsed": 6,
     "status": "error",
     "timestamp": 1668097804966,
     "user": {
      "displayName": "Danagul Azimzhanova",
      "userId": "07294101290954755816"
     },
     "user_tz": -180
    },
    "id": "d9988747",
    "outputId": "48c448a7-bd76-4ab4-bf32-59d4d4c4fd8a"
   },
   "outputs": [],
   "source": [
    "# Export France Dataframe into a CSV\n",
    "france_tweets_df.to_csv('france-tweets.csv', sep=',', index=False)\n",
    "\n",
    "# Export Iran Dataframe into a CSV\n",
    "iran_tweets_df.to_csv('iran-tweets.csv', sep=',', index=False)"
   ]
  },
  {
   "cell_type": "markdown",
   "id": "b98972cc",
   "metadata": {
    "id": "b98972cc"
   },
   "source": [
    "**Read Tweets from CSV Files and store in DataFrames**"
   ]
  },
  {
   "cell_type": "code",
   "execution_count": null,
   "id": "eEh0umVROvSR",
   "metadata": {
    "colab": {
     "base_uri": "https://localhost:8080/"
    },
    "executionInfo": {
     "elapsed": 23899,
     "status": "ok",
     "timestamp": 1668097861153,
     "user": {
      "displayName": "Danagul Azimzhanova",
      "userId": "07294101290954755816"
     },
     "user_tz": -180
    },
    "id": "eEh0umVROvSR",
    "outputId": "bb20cd9f-a5aa-4b7e-b2fa-7968e321033f"
   },
   "outputs": [
    {
     "name": "stdout",
     "output_type": "stream",
     "text": [
      "Mounted at /content/drive\n"
     ]
    }
   ],
   "source": [
    "from google.colab import drive\n",
    "drive.mount('/content/drive')"
   ]
  },
  {
   "cell_type": "code",
   "execution_count": 12,
   "id": "e9a04d31",
   "metadata": {
    "id": "e9a04d31"
   },
   "outputs": [],
   "source": [
    "# france_tweets_df = pd.read_csv('/content/drive/My Drive/PDS_Final/france-tweets.csv',lineterminator='\\n')\n",
    "# iran_tweets_df = pd.read_csv('/content/drive/My Drive/PDS_Final/iran-tweets.csv')\n",
    "\n",
    "france_tweets_df = pd.read_csv('france-tweets.csv',lineterminator='\\n')\n",
    "iran_tweets_df = pd.read_csv('iran-tweets.csv')"
   ]
  },
  {
   "cell_type": "markdown",
   "id": "0ad7ef1a",
   "metadata": {},
   "source": [
    "**Here we use NLTK's SentimentIntensityAnalyzer to get the polarity score for each tweet**"
   ]
  },
  {
   "cell_type": "code",
   "execution_count": 13,
   "id": "c04a66cd",
   "metadata": {
    "id": "c04a66cd"
   },
   "outputs": [],
   "source": [
    "#Sentiment Analysis\n",
    "\n",
    "def assign_label(tweet):\n",
    "\n",
    "    result = 0\n",
    "    analysis = TextBlob(tweet)\n",
    "    score = SentimentIntensityAnalyzer().polarity_scores(tweet)\n",
    "    neg = score['neg']\n",
    "    neu = score['neu']\n",
    "    pos = score['pos']\n",
    "    comp = score['compound']\n",
    "\n",
    "    if neg > pos:\n",
    "        result = 0\n",
    "    elif pos > neg:\n",
    "        result = 1\n",
    "    elif pos == neg:\n",
    "        result = -1\n",
    "        \n",
    "    return result"
   ]
  },
  {
   "cell_type": "markdown",
   "id": "708a5c92",
   "metadata": {
    "id": "708a5c92"
   },
   "source": [
    "**Using assign_label to assign a label to each tweet based on sentiment**\n",
    "\n",
    "Sentiment is determined using NLTK's Sentiment Library in particular using SentimentIntensityAnalyzer"
   ]
  },
  {
   "cell_type": "code",
   "execution_count": 14,
   "id": "5bedbcaa",
   "metadata": {
    "id": "5bedbcaa"
   },
   "outputs": [],
   "source": [
    "france_tweets_df['Label'] = france_tweets_df[\"Text\"].apply(lambda x: assign_label(x))\n",
    "iran_tweets_df['Label'] = iran_tweets_df[\"Text\"].apply(lambda x: assign_label(x))"
   ]
  },
  {
   "cell_type": "code",
   "execution_count": 15,
   "id": "79bfd2be",
   "metadata": {
    "colab": {
     "base_uri": "https://localhost:8080/",
     "height": 419
    },
    "executionInfo": {
     "elapsed": 33,
     "status": "ok",
     "timestamp": 1667928512144,
     "user": {
      "displayName": "Danagul Azimzhanova",
      "userId": "07294101290954755816"
     },
     "user_tz": -180
    },
    "id": "79bfd2be",
    "outputId": "f2ce87e0-36b1-4e23-8a46-2eaa64ce37e8"
   },
   "outputs": [
    {
     "data": {
      "text/html": [
       "<div>\n",
       "<style scoped>\n",
       "    .dataframe tbody tr th:only-of-type {\n",
       "        vertical-align: middle;\n",
       "    }\n",
       "\n",
       "    .dataframe tbody tr th {\n",
       "        vertical-align: top;\n",
       "    }\n",
       "\n",
       "    .dataframe thead th {\n",
       "        text-align: right;\n",
       "    }\n",
       "</style>\n",
       "<table border=\"1\" class=\"dataframe\">\n",
       "  <thead>\n",
       "    <tr style=\"text-align: right;\">\n",
       "      <th></th>\n",
       "      <th>Datetime</th>\n",
       "      <th>Tweet Id</th>\n",
       "      <th>Text</th>\n",
       "      <th>Username</th>\n",
       "      <th>Label</th>\n",
       "    </tr>\n",
       "  </thead>\n",
       "  <tbody>\n",
       "    <tr>\n",
       "      <th>0</th>\n",
       "      <td>2022-04-02 22:31:59+00:00</td>\n",
       "      <td>1510384575511474180</td>\n",
       "      <td>@Jaktare @takavic_gene @Shibumi4India @IndiaSp...</td>\n",
       "      <td>Ballzheimers</td>\n",
       "      <td>0</td>\n",
       "    </tr>\n",
       "    <tr>\n",
       "      <th>1</th>\n",
       "      <td>2022-04-02 18:20:52+00:00</td>\n",
       "      <td>1510321381241946114</td>\n",
       "      <td>While the French are busy fighting Muslim girl...</td>\n",
       "      <td>malik_in_dc</td>\n",
       "      <td>0</td>\n",
       "    </tr>\n",
       "    <tr>\n",
       "      <th>2</th>\n",
       "      <td>2022-04-02 18:16:53+00:00</td>\n",
       "      <td>1510320380405329920</td>\n",
       "      <td>@itgirlenergy It's true but we finally getting...</td>\n",
       "      <td>stephens_hands</td>\n",
       "      <td>1</td>\n",
       "    </tr>\n",
       "    <tr>\n",
       "      <th>3</th>\n",
       "      <td>2022-04-02 12:53:01+00:00</td>\n",
       "      <td>1510238876257947648</td>\n",
       "      <td>@Jaktare @takavic_gene @Shibumi4India @IndiaSp...</td>\n",
       "      <td>Ballzheimers</td>\n",
       "      <td>0</td>\n",
       "    </tr>\n",
       "    <tr>\n",
       "      <th>4</th>\n",
       "      <td>2022-04-02 11:50:45+00:00</td>\n",
       "      <td>1510223203846737927</td>\n",
       "      <td>@hibaelmoctar This is great he shut the wester...</td>\n",
       "      <td>Morty_is_paki</td>\n",
       "      <td>1</td>\n",
       "    </tr>\n",
       "    <tr>\n",
       "      <th>...</th>\n",
       "      <td>...</td>\n",
       "      <td>...</td>\n",
       "      <td>...</td>\n",
       "      <td>...</td>\n",
       "      <td>...</td>\n",
       "    </tr>\n",
       "    <tr>\n",
       "      <th>36379</th>\n",
       "      <td>2011-01-10 18:36:35+00:00</td>\n",
       "      <td>24535087332724737</td>\n",
       "      <td>2 faces of west.pope can c blasphemy law in pa...</td>\n",
       "      <td>X_two_</td>\n",
       "      <td>1</td>\n",
       "    </tr>\n",
       "    <tr>\n",
       "      <th>36380</th>\n",
       "      <td>2011-01-07 05:04:47+00:00</td>\n",
       "      <td>23243630185553920</td>\n",
       "      <td>@Mohomed @thisisrio2 did u hear that rioo, hes...</td>\n",
       "      <td>ThatDolma</td>\n",
       "      <td>-1</td>\n",
       "    </tr>\n",
       "    <tr>\n",
       "      <th>36381</th>\n",
       "      <td>2011-01-07 04:33:11+00:00</td>\n",
       "      <td>23235674681376769</td>\n",
       "      <td>@ThatDolma @thisisrio2 Yip, i wont wear hijab ...</td>\n",
       "      <td>Mohomed</td>\n",
       "      <td>-1</td>\n",
       "    </tr>\n",
       "    <tr>\n",
       "      <th>36382</th>\n",
       "      <td>2011-01-07 04:01:50+00:00</td>\n",
       "      <td>23227784927125504</td>\n",
       "      <td>@Mohomed @thisisrio2 oh he wants to go to hija...</td>\n",
       "      <td>ThatDolma</td>\n",
       "      <td>0</td>\n",
       "    </tr>\n",
       "    <tr>\n",
       "      <th>36383</th>\n",
       "      <td>2011-01-04 21:26:00+00:00</td>\n",
       "      <td>22403396862484481</td>\n",
       "      <td>@TherealJThirty these people just do this for ...</td>\n",
       "      <td>MuslimCurry</td>\n",
       "      <td>0</td>\n",
       "    </tr>\n",
       "  </tbody>\n",
       "</table>\n",
       "<p>36384 rows × 5 columns</p>\n",
       "</div>"
      ],
      "text/plain": [
       "                        Datetime             Tweet Id  \\\n",
       "0      2022-04-02 22:31:59+00:00  1510384575511474180   \n",
       "1      2022-04-02 18:20:52+00:00  1510321381241946114   \n",
       "2      2022-04-02 18:16:53+00:00  1510320380405329920   \n",
       "3      2022-04-02 12:53:01+00:00  1510238876257947648   \n",
       "4      2022-04-02 11:50:45+00:00  1510223203846737927   \n",
       "...                          ...                  ...   \n",
       "36379  2011-01-10 18:36:35+00:00    24535087332724737   \n",
       "36380  2011-01-07 05:04:47+00:00    23243630185553920   \n",
       "36381  2011-01-07 04:33:11+00:00    23235674681376769   \n",
       "36382  2011-01-07 04:01:50+00:00    23227784927125504   \n",
       "36383  2011-01-04 21:26:00+00:00    22403396862484481   \n",
       "\n",
       "                                                    Text        Username  \\\n",
       "0      @Jaktare @takavic_gene @Shibumi4India @IndiaSp...    Ballzheimers   \n",
       "1      While the French are busy fighting Muslim girl...     malik_in_dc   \n",
       "2      @itgirlenergy It's true but we finally getting...  stephens_hands   \n",
       "3      @Jaktare @takavic_gene @Shibumi4India @IndiaSp...    Ballzheimers   \n",
       "4      @hibaelmoctar This is great he shut the wester...   Morty_is_paki   \n",
       "...                                                  ...             ...   \n",
       "36379  2 faces of west.pope can c blasphemy law in pa...          X_two_   \n",
       "36380  @Mohomed @thisisrio2 did u hear that rioo, hes...       ThatDolma   \n",
       "36381  @ThatDolma @thisisrio2 Yip, i wont wear hijab ...         Mohomed   \n",
       "36382  @Mohomed @thisisrio2 oh he wants to go to hija...       ThatDolma   \n",
       "36383  @TherealJThirty these people just do this for ...     MuslimCurry   \n",
       "\n",
       "       Label  \n",
       "0          0  \n",
       "1          0  \n",
       "2          1  \n",
       "3          0  \n",
       "4          1  \n",
       "...      ...  \n",
       "36379      1  \n",
       "36380     -1  \n",
       "36381     -1  \n",
       "36382      0  \n",
       "36383      0  \n",
       "\n",
       "[36384 rows x 5 columns]"
      ]
     },
     "execution_count": 15,
     "metadata": {},
     "output_type": "execute_result"
    }
   ],
   "source": [
    "france_tweets_df"
   ]
  },
  {
   "cell_type": "code",
   "execution_count": 16,
   "id": "dfb7e4a6",
   "metadata": {
    "colab": {
     "base_uri": "https://localhost:8080/",
     "height": 419
    },
    "executionInfo": {
     "elapsed": 380,
     "status": "ok",
     "timestamp": 1667928957910,
     "user": {
      "displayName": "Danagul Azimzhanova",
      "userId": "07294101290954755816"
     },
     "user_tz": -180
    },
    "id": "dfb7e4a6",
    "outputId": "3a3bcf16-670b-48cf-bc13-03f903a5184c"
   },
   "outputs": [
    {
     "data": {
      "text/html": [
       "<div>\n",
       "<style scoped>\n",
       "    .dataframe tbody tr th:only-of-type {\n",
       "        vertical-align: middle;\n",
       "    }\n",
       "\n",
       "    .dataframe tbody tr th {\n",
       "        vertical-align: top;\n",
       "    }\n",
       "\n",
       "    .dataframe thead th {\n",
       "        text-align: right;\n",
       "    }\n",
       "</style>\n",
       "<table border=\"1\" class=\"dataframe\">\n",
       "  <thead>\n",
       "    <tr style=\"text-align: right;\">\n",
       "      <th></th>\n",
       "      <th>Datetime</th>\n",
       "      <th>Tweet Id</th>\n",
       "      <th>Text</th>\n",
       "      <th>Username</th>\n",
       "      <th>Label</th>\n",
       "    </tr>\n",
       "  </thead>\n",
       "  <tbody>\n",
       "    <tr>\n",
       "      <th>0</th>\n",
       "      <td>2022-11-02 23:55:27+00:00</td>\n",
       "      <td>1587956586223378434</td>\n",
       "      <td>@NazaninNour we women of Iran are not protesti...</td>\n",
       "      <td>Luckyluke7958</td>\n",
       "      <td>0</td>\n",
       "    </tr>\n",
       "    <tr>\n",
       "      <th>1</th>\n",
       "      <td>2022-11-02 23:53:21+00:00</td>\n",
       "      <td>1587956057304727552</td>\n",
       "      <td>Biggest BS on social media how different is it...</td>\n",
       "      <td>baburajvarma</td>\n",
       "      <td>0</td>\n",
       "    </tr>\n",
       "    <tr>\n",
       "      <th>2</th>\n",
       "      <td>2022-11-02 23:46:26+00:00</td>\n",
       "      <td>1587954315687329792</td>\n",
       "      <td>@EvieFangOCPC @freed_panda @mhdksafa Have you ...</td>\n",
       "      <td>msbuttaface</td>\n",
       "      <td>0</td>\n",
       "    </tr>\n",
       "    <tr>\n",
       "      <th>3</th>\n",
       "      <td>2022-11-02 23:45:48+00:00</td>\n",
       "      <td>1587954155603238913</td>\n",
       "      <td>@AbasAslani Salaam and thank you for your repo...</td>\n",
       "      <td>AtefehKhanoom</td>\n",
       "      <td>1</td>\n",
       "    </tr>\n",
       "    <tr>\n",
       "      <th>4</th>\n",
       "      <td>2022-11-02 23:23:48+00:00</td>\n",
       "      <td>1587948618748956672</td>\n",
       "      <td>Hijab is not a cultural issue in Iran. It neve...</td>\n",
       "      <td>BenyaminZargar</td>\n",
       "      <td>1</td>\n",
       "    </tr>\n",
       "    <tr>\n",
       "      <th>...</th>\n",
       "      <td>...</td>\n",
       "      <td>...</td>\n",
       "      <td>...</td>\n",
       "      <td>...</td>\n",
       "      <td>...</td>\n",
       "    </tr>\n",
       "    <tr>\n",
       "      <th>49996</th>\n",
       "      <td>2022-09-23 18:16:09+00:00</td>\n",
       "      <td>1573375682394357760</td>\n",
       "      <td>@mhluvou The brutal murder of a twenty two yo ...</td>\n",
       "      <td>loui_lovel</td>\n",
       "      <td>0</td>\n",
       "    </tr>\n",
       "    <tr>\n",
       "      <th>49997</th>\n",
       "      <td>2022-09-23 18:16:08+00:00</td>\n",
       "      <td>1573375678523002880</td>\n",
       "      <td>The Iranian government is burning the holy Qur...</td>\n",
       "      <td>Nerida_mer</td>\n",
       "      <td>0</td>\n",
       "    </tr>\n",
       "    <tr>\n",
       "      <th>49998</th>\n",
       "      <td>2022-09-23 18:16:01+00:00</td>\n",
       "      <td>1573375650580267008</td>\n",
       "      <td>@mhluvou The brutal murder of a twenty two yo ...</td>\n",
       "      <td>loui_lovel</td>\n",
       "      <td>0</td>\n",
       "    </tr>\n",
       "    <tr>\n",
       "      <th>49999</th>\n",
       "      <td>2022-09-23 18:15:53+00:00</td>\n",
       "      <td>1573375614698098688</td>\n",
       "      <td>@mhluvou The brutal murder of a twenty two yo ...</td>\n",
       "      <td>loui_lovel</td>\n",
       "      <td>0</td>\n",
       "    </tr>\n",
       "    <tr>\n",
       "      <th>50000</th>\n",
       "      <td>2022-09-23 18:15:46+00:00</td>\n",
       "      <td>1573375586382516224</td>\n",
       "      <td>@mhluvou The brutal murder of a twenty two yo ...</td>\n",
       "      <td>loui_lovel</td>\n",
       "      <td>0</td>\n",
       "    </tr>\n",
       "  </tbody>\n",
       "</table>\n",
       "<p>50001 rows × 5 columns</p>\n",
       "</div>"
      ],
      "text/plain": [
       "                        Datetime             Tweet Id  \\\n",
       "0      2022-11-02 23:55:27+00:00  1587956586223378434   \n",
       "1      2022-11-02 23:53:21+00:00  1587956057304727552   \n",
       "2      2022-11-02 23:46:26+00:00  1587954315687329792   \n",
       "3      2022-11-02 23:45:48+00:00  1587954155603238913   \n",
       "4      2022-11-02 23:23:48+00:00  1587948618748956672   \n",
       "...                          ...                  ...   \n",
       "49996  2022-09-23 18:16:09+00:00  1573375682394357760   \n",
       "49997  2022-09-23 18:16:08+00:00  1573375678523002880   \n",
       "49998  2022-09-23 18:16:01+00:00  1573375650580267008   \n",
       "49999  2022-09-23 18:15:53+00:00  1573375614698098688   \n",
       "50000  2022-09-23 18:15:46+00:00  1573375586382516224   \n",
       "\n",
       "                                                    Text        Username  \\\n",
       "0      @NazaninNour we women of Iran are not protesti...   Luckyluke7958   \n",
       "1      Biggest BS on social media how different is it...    baburajvarma   \n",
       "2      @EvieFangOCPC @freed_panda @mhdksafa Have you ...     msbuttaface   \n",
       "3      @AbasAslani Salaam and thank you for your repo...   AtefehKhanoom   \n",
       "4      Hijab is not a cultural issue in Iran. It neve...  BenyaminZargar   \n",
       "...                                                  ...             ...   \n",
       "49996  @mhluvou The brutal murder of a twenty two yo ...      loui_lovel   \n",
       "49997  The Iranian government is burning the holy Qur...      Nerida_mer   \n",
       "49998  @mhluvou The brutal murder of a twenty two yo ...      loui_lovel   \n",
       "49999  @mhluvou The brutal murder of a twenty two yo ...      loui_lovel   \n",
       "50000  @mhluvou The brutal murder of a twenty two yo ...      loui_lovel   \n",
       "\n",
       "       Label  \n",
       "0          0  \n",
       "1          0  \n",
       "2          0  \n",
       "3          1  \n",
       "4          1  \n",
       "...      ...  \n",
       "49996      0  \n",
       "49997      0  \n",
       "49998      0  \n",
       "49999      0  \n",
       "50000      0  \n",
       "\n",
       "[50001 rows x 5 columns]"
      ]
     },
     "execution_count": 16,
     "metadata": {},
     "output_type": "execute_result"
    }
   ],
   "source": [
    "iran_tweets_df"
   ]
  },
  {
   "cell_type": "markdown",
   "id": "f420665d",
   "metadata": {
    "id": "f420665d"
   },
   "source": [
    "**Display Tweet Distribution Bar Plots**"
   ]
  },
  {
   "cell_type": "code",
   "execution_count": 17,
   "id": "649e6db9",
   "metadata": {
    "colab": {
     "base_uri": "https://localhost:8080/",
     "height": 282
    },
    "executionInfo": {
     "elapsed": 496,
     "status": "ok",
     "timestamp": 1667928961188,
     "user": {
      "displayName": "Danagul Azimzhanova",
      "userId": "07294101290954755816"
     },
     "user_tz": -180
    },
    "id": "649e6db9",
    "outputId": "7469bb62-2d9f-4375-863f-6024a55a6a9a"
   },
   "outputs": [
    {
     "data": {
      "text/plain": [
       "<AxesSubplot:>"
      ]
     },
     "execution_count": 17,
     "metadata": {},
     "output_type": "execute_result"
    },
    {
     "data": {
      "image/png": "[encoded data removed]",
      "text/plain": [
       "<Figure size 432x288 with 1 Axes>"
      ]
     },
     "metadata": {
      "needs_background": "light"
     },
     "output_type": "display_data"
    }
   ],
   "source": [
    "france_tweets_df['Label'].value_counts().plot(kind = 'barh')"
   ]
  },
  {
   "cell_type": "code",
   "execution_count": 18,
   "id": "da1c0fdd",
   "metadata": {
    "colab": {
     "base_uri": "https://localhost:8080/",
     "height": 282
    },
    "executionInfo": {
     "elapsed": 11,
     "status": "ok",
     "timestamp": 1667928963124,
     "user": {
      "displayName": "Danagul Azimzhanova",
      "userId": "07294101290954755816"
     },
     "user_tz": -180
    },
    "id": "da1c0fdd",
    "outputId": "7d03fe27-a1f8-4282-a939-0acdffaaaf68"
   },
   "outputs": [
    {
     "data": {
      "text/plain": [
       "<AxesSubplot:>"
      ]
     },
     "execution_count": 18,
     "metadata": {},
     "output_type": "execute_result"
    },
    {
     "data": {
      "image/png": "[encoded data removed]",
      "text/plain": [
       "<Figure size 432x288 with 1 Axes>"
      ]
     },
     "metadata": {
      "needs_background": "light"
     },
     "output_type": "display_data"
    }
   ],
   "source": [
    "iran_tweets_df['Label'].value_counts().plot(kind = 'barh')"
   ]
  },
  {
   "cell_type": "markdown",
   "id": "f413ff58",
   "metadata": {
    "id": "f413ff58"
   },
   "source": [
    "**Remove Neutral Tweets**"
   ]
  },
  {
   "cell_type": "code",
   "execution_count": 19,
   "id": "420febf7",
   "metadata": {
    "id": "420febf7"
   },
   "outputs": [],
   "source": [
    "france_tweets_df = france_tweets_df.loc[france_tweets_df[\"Label\"] != -1 ]"
   ]
  },
  {
   "cell_type": "code",
   "execution_count": 20,
   "id": "516b8750",
   "metadata": {
    "id": "516b8750"
   },
   "outputs": [],
   "source": [
    "iran_tweets_df = iran_tweets_df.loc[iran_tweets_df[\"Label\"] != -1 ]"
   ]
  },
  {
   "cell_type": "code",
   "execution_count": 21,
   "id": "9aa3de5f",
   "metadata": {
    "colab": {
     "base_uri": "https://localhost:8080/",
     "height": 419
    },
    "executionInfo": {
     "elapsed": 361,
     "status": "ok",
     "timestamp": 1667929240639,
     "user": {
      "displayName": "Danagul Azimzhanova",
      "userId": "07294101290954755816"
     },
     "user_tz": -180
    },
    "id": "9aa3de5f",
    "outputId": "e6fa97f1-4ac0-466c-fdf7-965340a931eb"
   },
   "outputs": [
    {
     "data": {
      "text/html": [
       "<div>\n",
       "<style scoped>\n",
       "    .dataframe tbody tr th:only-of-type {\n",
       "        vertical-align: middle;\n",
       "    }\n",
       "\n",
       "    .dataframe tbody tr th {\n",
       "        vertical-align: top;\n",
       "    }\n",
       "\n",
       "    .dataframe thead th {\n",
       "        text-align: right;\n",
       "    }\n",
       "</style>\n",
       "<table border=\"1\" class=\"dataframe\">\n",
       "  <thead>\n",
       "    <tr style=\"text-align: right;\">\n",
       "      <th></th>\n",
       "      <th>Datetime</th>\n",
       "      <th>Tweet Id</th>\n",
       "      <th>Text</th>\n",
       "      <th>Username</th>\n",
       "      <th>Label</th>\n",
       "    </tr>\n",
       "  </thead>\n",
       "  <tbody>\n",
       "    <tr>\n",
       "      <th>0</th>\n",
       "      <td>2022-04-02 22:31:59+00:00</td>\n",
       "      <td>1510384575511474180</td>\n",
       "      <td>@Jaktare @takavic_gene @Shibumi4India @IndiaSp...</td>\n",
       "      <td>Ballzheimers</td>\n",
       "      <td>0</td>\n",
       "    </tr>\n",
       "    <tr>\n",
       "      <th>1</th>\n",
       "      <td>2022-04-02 18:20:52+00:00</td>\n",
       "      <td>1510321381241946114</td>\n",
       "      <td>While the French are busy fighting Muslim girl...</td>\n",
       "      <td>malik_in_dc</td>\n",
       "      <td>0</td>\n",
       "    </tr>\n",
       "    <tr>\n",
       "      <th>2</th>\n",
       "      <td>2022-04-02 18:16:53+00:00</td>\n",
       "      <td>1510320380405329920</td>\n",
       "      <td>@itgirlenergy It's true but we finally getting...</td>\n",
       "      <td>stephens_hands</td>\n",
       "      <td>1</td>\n",
       "    </tr>\n",
       "    <tr>\n",
       "      <th>3</th>\n",
       "      <td>2022-04-02 12:53:01+00:00</td>\n",
       "      <td>1510238876257947648</td>\n",
       "      <td>@Jaktare @takavic_gene @Shibumi4India @IndiaSp...</td>\n",
       "      <td>Ballzheimers</td>\n",
       "      <td>0</td>\n",
       "    </tr>\n",
       "    <tr>\n",
       "      <th>4</th>\n",
       "      <td>2022-04-02 11:50:45+00:00</td>\n",
       "      <td>1510223203846737927</td>\n",
       "      <td>@hibaelmoctar This is great he shut the wester...</td>\n",
       "      <td>Morty_is_paki</td>\n",
       "      <td>1</td>\n",
       "    </tr>\n",
       "    <tr>\n",
       "      <th>...</th>\n",
       "      <td>...</td>\n",
       "      <td>...</td>\n",
       "      <td>...</td>\n",
       "      <td>...</td>\n",
       "      <td>...</td>\n",
       "    </tr>\n",
       "    <tr>\n",
       "      <th>36375</th>\n",
       "      <td>2011-01-19 21:06:12+00:00</td>\n",
       "      <td>27834230662762496</td>\n",
       "      <td>@shonahalligan I'm not french! Ruth was chatti...</td>\n",
       "      <td>JoshyP92</td>\n",
       "      <td>0</td>\n",
       "    </tr>\n",
       "    <tr>\n",
       "      <th>36378</th>\n",
       "      <td>2011-01-14 15:12:42+00:00</td>\n",
       "      <td>25933332449599488</td>\n",
       "      <td>@Number10gov Can u put a good word in 4 the hi...</td>\n",
       "      <td>MrsBasaran</td>\n",
       "      <td>1</td>\n",
       "    </tr>\n",
       "    <tr>\n",
       "      <th>36379</th>\n",
       "      <td>2011-01-10 18:36:35+00:00</td>\n",
       "      <td>24535087332724737</td>\n",
       "      <td>2 faces of west.pope can c blasphemy law in pa...</td>\n",
       "      <td>X_two_</td>\n",
       "      <td>1</td>\n",
       "    </tr>\n",
       "    <tr>\n",
       "      <th>36382</th>\n",
       "      <td>2011-01-07 04:01:50+00:00</td>\n",
       "      <td>23227784927125504</td>\n",
       "      <td>@Mohomed @thisisrio2 oh he wants to go to hija...</td>\n",
       "      <td>ThatDolma</td>\n",
       "      <td>0</td>\n",
       "    </tr>\n",
       "    <tr>\n",
       "      <th>36383</th>\n",
       "      <td>2011-01-04 21:26:00+00:00</td>\n",
       "      <td>22403396862484481</td>\n",
       "      <td>@TherealJThirty these people just do this for ...</td>\n",
       "      <td>MuslimCurry</td>\n",
       "      <td>0</td>\n",
       "    </tr>\n",
       "  </tbody>\n",
       "</table>\n",
       "<p>30766 rows × 5 columns</p>\n",
       "</div>"
      ],
      "text/plain": [
       "                        Datetime             Tweet Id  \\\n",
       "0      2022-04-02 22:31:59+00:00  1510384575511474180   \n",
       "1      2022-04-02 18:20:52+00:00  1510321381241946114   \n",
       "2      2022-04-02 18:16:53+00:00  1510320380405329920   \n",
       "3      2022-04-02 12:53:01+00:00  1510238876257947648   \n",
       "4      2022-04-02 11:50:45+00:00  1510223203846737927   \n",
       "...                          ...                  ...   \n",
       "36375  2011-01-19 21:06:12+00:00    27834230662762496   \n",
       "36378  2011-01-14 15:12:42+00:00    25933332449599488   \n",
       "36379  2011-01-10 18:36:35+00:00    24535087332724737   \n",
       "36382  2011-01-07 04:01:50+00:00    23227784927125504   \n",
       "36383  2011-01-04 21:26:00+00:00    22403396862484481   \n",
       "\n",
       "                                                    Text        Username  \\\n",
       "0      @Jaktare @takavic_gene @Shibumi4India @IndiaSp...    Ballzheimers   \n",
       "1      While the French are busy fighting Muslim girl...     malik_in_dc   \n",
       "2      @itgirlenergy It's true but we finally getting...  stephens_hands   \n",
       "3      @Jaktare @takavic_gene @Shibumi4India @IndiaSp...    Ballzheimers   \n",
       "4      @hibaelmoctar This is great he shut the wester...   Morty_is_paki   \n",
       "...                                                  ...             ...   \n",
       "36375  @shonahalligan I'm not french! Ruth was chatti...        JoshyP92   \n",
       "36378  @Number10gov Can u put a good word in 4 the hi...      MrsBasaran   \n",
       "36379  2 faces of west.pope can c blasphemy law in pa...          X_two_   \n",
       "36382  @Mohomed @thisisrio2 oh he wants to go to hija...       ThatDolma   \n",
       "36383  @TherealJThirty these people just do this for ...     MuslimCurry   \n",
       "\n",
       "       Label  \n",
       "0          0  \n",
       "1          0  \n",
       "2          1  \n",
       "3          0  \n",
       "4          1  \n",
       "...      ...  \n",
       "36375      0  \n",
       "36378      1  \n",
       "36379      1  \n",
       "36382      0  \n",
       "36383      0  \n",
       "\n",
       "[30766 rows x 5 columns]"
      ]
     },
     "execution_count": 21,
     "metadata": {},
     "output_type": "execute_result"
    }
   ],
   "source": [
    "france_tweets_df"
   ]
  },
  {
   "cell_type": "code",
   "execution_count": null,
   "id": "h-TwaJ7tb8cl",
   "metadata": {
    "colab": {
     "base_uri": "https://localhost:8080/",
     "height": 752
    },
    "executionInfo": {
     "elapsed": 11,
     "status": "ok",
     "timestamp": 1667931078186,
     "user": {
      "displayName": "Danagul Azimzhanova",
      "userId": "07294101290954755816"
     },
     "user_tz": -180
    },
    "id": "h-TwaJ7tb8cl",
    "outputId": "2820b1b9-b4c9-4ed9-9ac7-ff3a39909b16"
   },
   "outputs": [
    {
     "data": {
      "text/html": [
       "\n",
       "  <div id=\"df-aad78094-9ac7-427b-be8e-ebfdda63db16\">\n",
       "    <div class=\"colab-df-container\">\n",
       "      <div>\n",
       "<style scoped>\n",
       "    .dataframe tbody tr th:only-of-type {\n",
       "        vertical-align: middle;\n",
       "    }\n",
       "\n",
       "    .dataframe tbody tr th {\n",
       "        vertical-align: top;\n",
       "    }\n",
       "\n",
       "    .dataframe thead th {\n",
       "        text-align: right;\n",
       "    }\n",
       "</style>\n",
       "<table border=\"1\" class=\"dataframe\">\n",
       "  <thead>\n",
       "    <tr style=\"text-align: right;\">\n",
       "      <th></th>\n",
       "      <th>Datetime</th>\n",
       "      <th>Tweet Id</th>\n",
       "      <th>Text</th>\n",
       "      <th>Username</th>\n",
       "      <th>Label</th>\n",
       "      <th>Cleaned_List</th>\n",
       "      <th>Cleaned_Text</th>\n",
       "    </tr>\n",
       "  </thead>\n",
       "  <tbody>\n",
       "    <tr>\n",
       "      <th>0</th>\n",
       "      <td>2022-04-02 22:31:59+00:00</td>\n",
       "      <td>1510384575511474180</td>\n",
       "      <td>@Jaktare @takavic_gene @Shibumi4India @IndiaSp...</td>\n",
       "      <td>Ballzheimers</td>\n",
       "      <td>0</td>\n",
       "      <td>[jaktare, takavic, gene, shibumi4india, indias...</td>\n",
       "      <td>jaktare takavic gene shibumi4india indiaspeaks...</td>\n",
       "    </tr>\n",
       "    <tr>\n",
       "      <th>1</th>\n",
       "      <td>2022-04-02 18:20:52+00:00</td>\n",
       "      <td>1510321381241946114</td>\n",
       "      <td>While the French are busy fighting Muslim girl...</td>\n",
       "      <td>malik_in_dc</td>\n",
       "      <td>0</td>\n",
       "      <td>[french, busy, fighting, muslim, girl, hijab, ...</td>\n",
       "      <td>french busy fighting muslim girl hijab country...</td>\n",
       "    </tr>\n",
       "    <tr>\n",
       "      <th>2</th>\n",
       "      <td>2022-04-02 18:16:53+00:00</td>\n",
       "      <td>1510320380405329920</td>\n",
       "      <td>@itgirlenergy It's true but we finally getting...</td>\n",
       "      <td>stephens_hands</td>\n",
       "      <td>1</td>\n",
       "      <td>[itgirlenergy, true, finally, getting, hijabi,...</td>\n",
       "      <td>itgirlenergy true finally getting hijabi vogue...</td>\n",
       "    </tr>\n",
       "    <tr>\n",
       "      <th>3</th>\n",
       "      <td>2022-04-02 12:53:01+00:00</td>\n",
       "      <td>1510238876257947648</td>\n",
       "      <td>@Jaktare @takavic_gene @Shibumi4India @IndiaSp...</td>\n",
       "      <td>Ballzheimers</td>\n",
       "      <td>0</td>\n",
       "      <td>[jaktare, takavic, gene, shibumi4india, indias...</td>\n",
       "      <td>jaktare takavic gene shibumi4india indiaspeaks...</td>\n",
       "    </tr>\n",
       "    <tr>\n",
       "      <th>4</th>\n",
       "      <td>2022-04-02 11:50:45+00:00</td>\n",
       "      <td>1510223203846737927</td>\n",
       "      <td>@hibaelmoctar This is great he shut the wester...</td>\n",
       "      <td>Morty_is_paki</td>\n",
       "      <td>1</td>\n",
       "      <td>[hibaelmoctar, great, shut, western, female, d...</td>\n",
       "      <td>hibaelmoctar great shut western female dog fem...</td>\n",
       "    </tr>\n",
       "    <tr>\n",
       "      <th>...</th>\n",
       "      <td>...</td>\n",
       "      <td>...</td>\n",
       "      <td>...</td>\n",
       "      <td>...</td>\n",
       "      <td>...</td>\n",
       "      <td>...</td>\n",
       "      <td>...</td>\n",
       "    </tr>\n",
       "    <tr>\n",
       "      <th>36375</th>\n",
       "      <td>2011-01-19 21:06:12+00:00</td>\n",
       "      <td>27834230662762496</td>\n",
       "      <td>@shonahalligan I'm not french! Ruth was chatti...</td>\n",
       "      <td>JoshyP92</td>\n",
       "      <td>0</td>\n",
       "      <td>[shonahalligan, im, french, ruth, wa, chatting...</td>\n",
       "      <td>shonahalligan im french ruth wa chatting shit ...</td>\n",
       "    </tr>\n",
       "    <tr>\n",
       "      <th>36378</th>\n",
       "      <td>2011-01-14 15:12:42+00:00</td>\n",
       "      <td>25933332449599488</td>\n",
       "      <td>@Number10gov Can u put a good word in 4 the hi...</td>\n",
       "      <td>MrsBasaran</td>\n",
       "      <td>1</td>\n",
       "      <td>[number10gov, u, put, good, word, 4, hijab, we...</td>\n",
       "      <td>number10gov u put good word 4 hijab wearing po...</td>\n",
       "    </tr>\n",
       "    <tr>\n",
       "      <th>36379</th>\n",
       "      <td>2011-01-10 18:36:35+00:00</td>\n",
       "      <td>24535087332724737</td>\n",
       "      <td>2 faces of west.pope can c blasphemy law in pa...</td>\n",
       "      <td>X_two_</td>\n",
       "      <td>1</td>\n",
       "      <td>[2, face, west, pope, c, blasphemy, law, pak, ...</td>\n",
       "      <td>2 face west pope c blasphemy law pak cant c fr...</td>\n",
       "    </tr>\n",
       "    <tr>\n",
       "      <th>36382</th>\n",
       "      <td>2011-01-07 04:01:50+00:00</td>\n",
       "      <td>23227784927125504</td>\n",
       "      <td>@Mohomed @thisisrio2 oh he wants to go to hija...</td>\n",
       "      <td>ThatDolma</td>\n",
       "      <td>0</td>\n",
       "      <td>[mohomed, thisisrio2, oh, want, go, hijab, ban...</td>\n",
       "      <td>mohomed thisisrio2 oh want go hijab banned fra...</td>\n",
       "    </tr>\n",
       "    <tr>\n",
       "      <th>36383</th>\n",
       "      <td>2011-01-04 21:26:00+00:00</td>\n",
       "      <td>22403396862484481</td>\n",
       "      <td>@TherealJThirty these people just do this for ...</td>\n",
       "      <td>MuslimCurry</td>\n",
       "      <td>0</td>\n",
       "      <td>[therealjthirty, people, attention, like, fren...</td>\n",
       "      <td>therealjthirty people attention like french pr...</td>\n",
       "    </tr>\n",
       "  </tbody>\n",
       "</table>\n",
       "<p>30645 rows × 7 columns</p>\n",
       "</div>\n",
       "      <button class=\"colab-df-convert\" onclick=\"convertToInteractive('df-aad78094-9ac7-427b-be8e-ebfdda63db16')\"\n",
       "              title=\"Convert this dataframe to an interactive table.\"\n",
       "              style=\"display:none;\">\n",
       "        \n",
       "  <svg xmlns=\"http://www.w3.org/2000/svg\" height=\"24px\"viewBox=\"0 0 24 24\"\n",
       "       width=\"24px\">\n",
       "    <path d=\"M0 0h24v24H0V0z\" fill=\"none\"/>\n",
       "    <path d=\"M18.56 5.44l.94 2.06.94-2.06 2.06-.94-2.06-.94-.94-2.06-.94 2.06-2.06.94zm-11 1L8.5 8.5l.94-2.06 2.06-.94-2.06-.94L8.5 2.5l-.94 2.06-2.06.94zm10 10l.94 2.06.94-2.06 2.06-.94-2.06-.94-.94-2.06-.94 2.06-2.06.94z\"/><path d=\"M17.41 7.96l-1.37-1.37c-.4-.4-.92-.59-1.43-.59-.52 0-1.04.2-1.43.59L10.3 9.45l-7.72 7.72c-.78.78-.78 2.05 0 2.83L4 21.41c.39.39.9.59 1.41.59.51 0 1.02-.2 1.41-.59l7.78-7.78 2.81-2.81c.8-.78.8-2.07 0-2.86zM5.41 20L4 18.59l7.72-7.72 1.47 1.35L5.41 20z\"/>\n",
       "  </svg>\n",
       "      </button>\n",
       "      \n",
       "  <style>\n",
       "    .colab-df-container {\n",
       "      display:flex;\n",
       "      flex-wrap:wrap;\n",
       "      gap: 12px;\n",
       "    }\n",
       "\n",
       "    .colab-df-convert {\n",
       "      background-color: #E8F0FE;\n",
       "      border: none;\n",
       "      border-radius: 50%;\n",
       "      cursor: pointer;\n",
       "      display: none;\n",
       "      fill: #1967D2;\n",
       "      height: 32px;\n",
       "      padding: 0 0 0 0;\n",
       "      width: 32px;\n",
       "    }\n",
       "\n",
       "    .colab-df-convert:hover {\n",
       "      background-color: #E2EBFA;\n",
       "      box-shadow: 0px 1px 2px rgba(60, 64, 67, 0.3), 0px 1px 3px 1px rgba(60, 64, 67, 0.15);\n",
       "      fill: #174EA6;\n",
       "    }\n",
       "\n",
       "    [theme=dark] .colab-df-convert {\n",
       "      background-color: #3B4455;\n",
       "      fill: #D2E3FC;\n",
       "    }\n",
       "\n",
       "    [theme=dark] .colab-df-convert:hover {\n",
       "      background-color: #434B5C;\n",
       "      box-shadow: 0px 1px 3px 1px rgba(0, 0, 0, 0.15);\n",
       "      filter: drop-shadow(0px 1px 2px rgba(0, 0, 0, 0.3));\n",
       "      fill: #FFFFFF;\n",
       "    }\n",
       "  </style>\n",
       "\n",
       "      <script>\n",
       "        const buttonEl =\n",
       "          document.querySelector('#df-aad78094-9ac7-427b-be8e-ebfdda63db16 button.colab-df-convert');\n",
       "        buttonEl.style.display =\n",
       "          google.colab.kernel.accessAllowed ? 'block' : 'none';\n",
       "\n",
       "        async function convertToInteractive(key) {\n",
       "          const element = document.querySelector('#df-aad78094-9ac7-427b-be8e-ebfdda63db16');\n",
       "          const dataTable =\n",
       "            await google.colab.kernel.invokeFunction('convertToInteractive',\n",
       "                                                     [key], {});\n",
       "          if (!dataTable) return;\n",
       "\n",
       "          const docLinkHtml = 'Like what you see? Visit the ' +\n",
       "            '<a target=\"_blank\" href=https://colab.research.google.com/notebooks/data_table.ipynb>data table notebook</a>'\n",
       "            + ' to learn more about interactive tables.';\n",
       "          element.innerHTML = '';\n",
       "          dataTable['output_type'] = 'display_data';\n",
       "          await google.colab.output.renderOutput(dataTable, element);\n",
       "          const docLink = document.createElement('div');\n",
       "          docLink.innerHTML = docLinkHtml;\n",
       "          element.appendChild(docLink);\n",
       "        }\n",
       "      </script>\n",
       "    </div>\n",
       "  </div>\n",
       "  "
      ],
      "text/plain": [
       "                        Datetime             Tweet Id  \\\n",
       "0      2022-04-02 22:31:59+00:00  1510384575511474180   \n",
       "1      2022-04-02 18:20:52+00:00  1510321381241946114   \n",
       "2      2022-04-02 18:16:53+00:00  1510320380405329920   \n",
       "3      2022-04-02 12:53:01+00:00  1510238876257947648   \n",
       "4      2022-04-02 11:50:45+00:00  1510223203846737927   \n",
       "...                          ...                  ...   \n",
       "36375  2011-01-19 21:06:12+00:00    27834230662762496   \n",
       "36378  2011-01-14 15:12:42+00:00    25933332449599488   \n",
       "36379  2011-01-10 18:36:35+00:00    24535087332724737   \n",
       "36382  2011-01-07 04:01:50+00:00    23227784927125504   \n",
       "36383  2011-01-04 21:26:00+00:00    22403396862484481   \n",
       "\n",
       "                                                    Text        Username  \\\n",
       "0      @Jaktare @takavic_gene @Shibumi4India @IndiaSp...    Ballzheimers   \n",
       "1      While the French are busy fighting Muslim girl...     malik_in_dc   \n",
       "2      @itgirlenergy It's true but we finally getting...  stephens_hands   \n",
       "3      @Jaktare @takavic_gene @Shibumi4India @IndiaSp...    Ballzheimers   \n",
       "4      @hibaelmoctar This is great he shut the wester...   Morty_is_paki   \n",
       "...                                                  ...             ...   \n",
       "36375  @shonahalligan I'm not french! Ruth was chatti...        JoshyP92   \n",
       "36378  @Number10gov Can u put a good word in 4 the hi...      MrsBasaran   \n",
       "36379  2 faces of west.pope can c blasphemy law in pa...          X_two_   \n",
       "36382  @Mohomed @thisisrio2 oh he wants to go to hija...       ThatDolma   \n",
       "36383  @TherealJThirty these people just do this for ...     MuslimCurry   \n",
       "\n",
       "       Label                                       Cleaned_List  \\\n",
       "0          0  [jaktare, takavic, gene, shibumi4india, indias...   \n",
       "1          0  [french, busy, fighting, muslim, girl, hijab, ...   \n",
       "2          1  [itgirlenergy, true, finally, getting, hijabi,...   \n",
       "3          0  [jaktare, takavic, gene, shibumi4india, indias...   \n",
       "4          1  [hibaelmoctar, great, shut, western, female, d...   \n",
       "...      ...                                                ...   \n",
       "36375      0  [shonahalligan, im, french, ruth, wa, chatting...   \n",
       "36378      1  [number10gov, u, put, good, word, 4, hijab, we...   \n",
       "36379      1  [2, face, west, pope, c, blasphemy, law, pak, ...   \n",
       "36382      0  [mohomed, thisisrio2, oh, want, go, hijab, ban...   \n",
       "36383      0  [therealjthirty, people, attention, like, fren...   \n",
       "\n",
       "                                            Cleaned_Text  \n",
       "0      jaktare takavic gene shibumi4india indiaspeaks...  \n",
       "1      french busy fighting muslim girl hijab country...  \n",
       "2      itgirlenergy true finally getting hijabi vogue...  \n",
       "3      jaktare takavic gene shibumi4india indiaspeaks...  \n",
       "4      hibaelmoctar great shut western female dog fem...  \n",
       "...                                                  ...  \n",
       "36375  shonahalligan im french ruth wa chatting shit ...  \n",
       "36378  number10gov u put good word 4 hijab wearing po...  \n",
       "36379  2 face west pope c blasphemy law pak cant c fr...  \n",
       "36382  mohomed thisisrio2 oh want go hijab banned fra...  \n",
       "36383  therealjthirty people attention like french pr...  \n",
       "\n",
       "[30645 rows x 7 columns]"
      ]
     },
     "execution_count": 42,
     "metadata": {},
     "output_type": "execute_result"
    }
   ],
   "source": [
    "france_tweets_df.drop_duplicates(subset=['Text', 'Username'])"
   ]
  },
  {
   "cell_type": "code",
   "execution_count": 22,
   "id": "e7109d3e",
   "metadata": {
    "colab": {
     "base_uri": "https://localhost:8080/",
     "height": 419
    },
    "executionInfo": {
     "elapsed": 363,
     "status": "ok",
     "timestamp": 1667929243134,
     "user": {
      "displayName": "Danagul Azimzhanova",
      "userId": "07294101290954755816"
     },
     "user_tz": -180
    },
    "id": "e7109d3e",
    "outputId": "128ca5af-ef2c-4d98-8ccf-068584e2bcc0"
   },
   "outputs": [
    {
     "data": {
      "text/html": [
       "<div>\n",
       "<style scoped>\n",
       "    .dataframe tbody tr th:only-of-type {\n",
       "        vertical-align: middle;\n",
       "    }\n",
       "\n",
       "    .dataframe tbody tr th {\n",
       "        vertical-align: top;\n",
       "    }\n",
       "\n",
       "    .dataframe thead th {\n",
       "        text-align: right;\n",
       "    }\n",
       "</style>\n",
       "<table border=\"1\" class=\"dataframe\">\n",
       "  <thead>\n",
       "    <tr style=\"text-align: right;\">\n",
       "      <th></th>\n",
       "      <th>Datetime</th>\n",
       "      <th>Tweet Id</th>\n",
       "      <th>Text</th>\n",
       "      <th>Username</th>\n",
       "      <th>Label</th>\n",
       "    </tr>\n",
       "  </thead>\n",
       "  <tbody>\n",
       "    <tr>\n",
       "      <th>0</th>\n",
       "      <td>2022-11-02 23:55:27+00:00</td>\n",
       "      <td>1587956586223378434</td>\n",
       "      <td>@NazaninNour we women of Iran are not protesti...</td>\n",
       "      <td>Luckyluke7958</td>\n",
       "      <td>0</td>\n",
       "    </tr>\n",
       "    <tr>\n",
       "      <th>1</th>\n",
       "      <td>2022-11-02 23:53:21+00:00</td>\n",
       "      <td>1587956057304727552</td>\n",
       "      <td>Biggest BS on social media how different is it...</td>\n",
       "      <td>baburajvarma</td>\n",
       "      <td>0</td>\n",
       "    </tr>\n",
       "    <tr>\n",
       "      <th>2</th>\n",
       "      <td>2022-11-02 23:46:26+00:00</td>\n",
       "      <td>1587954315687329792</td>\n",
       "      <td>@EvieFangOCPC @freed_panda @mhdksafa Have you ...</td>\n",
       "      <td>msbuttaface</td>\n",
       "      <td>0</td>\n",
       "    </tr>\n",
       "    <tr>\n",
       "      <th>3</th>\n",
       "      <td>2022-11-02 23:45:48+00:00</td>\n",
       "      <td>1587954155603238913</td>\n",
       "      <td>@AbasAslani Salaam and thank you for your repo...</td>\n",
       "      <td>AtefehKhanoom</td>\n",
       "      <td>1</td>\n",
       "    </tr>\n",
       "    <tr>\n",
       "      <th>4</th>\n",
       "      <td>2022-11-02 23:23:48+00:00</td>\n",
       "      <td>1587948618748956672</td>\n",
       "      <td>Hijab is not a cultural issue in Iran. It neve...</td>\n",
       "      <td>BenyaminZargar</td>\n",
       "      <td>1</td>\n",
       "    </tr>\n",
       "    <tr>\n",
       "      <th>...</th>\n",
       "      <td>...</td>\n",
       "      <td>...</td>\n",
       "      <td>...</td>\n",
       "      <td>...</td>\n",
       "      <td>...</td>\n",
       "    </tr>\n",
       "    <tr>\n",
       "      <th>49996</th>\n",
       "      <td>2022-09-23 18:16:09+00:00</td>\n",
       "      <td>1573375682394357760</td>\n",
       "      <td>@mhluvou The brutal murder of a twenty two yo ...</td>\n",
       "      <td>loui_lovel</td>\n",
       "      <td>0</td>\n",
       "    </tr>\n",
       "    <tr>\n",
       "      <th>49997</th>\n",
       "      <td>2022-09-23 18:16:08+00:00</td>\n",
       "      <td>1573375678523002880</td>\n",
       "      <td>The Iranian government is burning the holy Qur...</td>\n",
       "      <td>Nerida_mer</td>\n",
       "      <td>0</td>\n",
       "    </tr>\n",
       "    <tr>\n",
       "      <th>49998</th>\n",
       "      <td>2022-09-23 18:16:01+00:00</td>\n",
       "      <td>1573375650580267008</td>\n",
       "      <td>@mhluvou The brutal murder of a twenty two yo ...</td>\n",
       "      <td>loui_lovel</td>\n",
       "      <td>0</td>\n",
       "    </tr>\n",
       "    <tr>\n",
       "      <th>49999</th>\n",
       "      <td>2022-09-23 18:15:53+00:00</td>\n",
       "      <td>1573375614698098688</td>\n",
       "      <td>@mhluvou The brutal murder of a twenty two yo ...</td>\n",
       "      <td>loui_lovel</td>\n",
       "      <td>0</td>\n",
       "    </tr>\n",
       "    <tr>\n",
       "      <th>50000</th>\n",
       "      <td>2022-09-23 18:15:46+00:00</td>\n",
       "      <td>1573375586382516224</td>\n",
       "      <td>@mhluvou The brutal murder of a twenty two yo ...</td>\n",
       "      <td>loui_lovel</td>\n",
       "      <td>0</td>\n",
       "    </tr>\n",
       "  </tbody>\n",
       "</table>\n",
       "<p>46899 rows × 5 columns</p>\n",
       "</div>"
      ],
      "text/plain": [
       "                        Datetime             Tweet Id  \\\n",
       "0      2022-11-02 23:55:27+00:00  1587956586223378434   \n",
       "1      2022-11-02 23:53:21+00:00  1587956057304727552   \n",
       "2      2022-11-02 23:46:26+00:00  1587954315687329792   \n",
       "3      2022-11-02 23:45:48+00:00  1587954155603238913   \n",
       "4      2022-11-02 23:23:48+00:00  1587948618748956672   \n",
       "...                          ...                  ...   \n",
       "49996  2022-09-23 18:16:09+00:00  1573375682394357760   \n",
       "49997  2022-09-23 18:16:08+00:00  1573375678523002880   \n",
       "49998  2022-09-23 18:16:01+00:00  1573375650580267008   \n",
       "49999  2022-09-23 18:15:53+00:00  1573375614698098688   \n",
       "50000  2022-09-23 18:15:46+00:00  1573375586382516224   \n",
       "\n",
       "                                                    Text        Username  \\\n",
       "0      @NazaninNour we women of Iran are not protesti...   Luckyluke7958   \n",
       "1      Biggest BS on social media how different is it...    baburajvarma   \n",
       "2      @EvieFangOCPC @freed_panda @mhdksafa Have you ...     msbuttaface   \n",
       "3      @AbasAslani Salaam and thank you for your repo...   AtefehKhanoom   \n",
       "4      Hijab is not a cultural issue in Iran. It neve...  BenyaminZargar   \n",
       "...                                                  ...             ...   \n",
       "49996  @mhluvou The brutal murder of a twenty two yo ...      loui_lovel   \n",
       "49997  The Iranian government is burning the holy Qur...      Nerida_mer   \n",
       "49998  @mhluvou The brutal murder of a twenty two yo ...      loui_lovel   \n",
       "49999  @mhluvou The brutal murder of a twenty two yo ...      loui_lovel   \n",
       "50000  @mhluvou The brutal murder of a twenty two yo ...      loui_lovel   \n",
       "\n",
       "       Label  \n",
       "0          0  \n",
       "1          0  \n",
       "2          0  \n",
       "3          1  \n",
       "4          1  \n",
       "...      ...  \n",
       "49996      0  \n",
       "49997      0  \n",
       "49998      0  \n",
       "49999      0  \n",
       "50000      0  \n",
       "\n",
       "[46899 rows x 5 columns]"
      ]
     },
     "execution_count": 22,
     "metadata": {},
     "output_type": "execute_result"
    }
   ],
   "source": [
    "iran_tweets_df"
   ]
  },
  {
   "cell_type": "code",
   "execution_count": 23,
   "id": "YZDTMfcicLqN",
   "metadata": {
    "id": "YZDTMfcicLqN"
   },
   "outputs": [],
   "source": [
    "iran_tweets_df = iran_tweets_df.drop_duplicates(subset=['Text', 'Username'])"
   ]
  },
  {
   "cell_type": "code",
   "execution_count": null,
   "id": "i04237g7cXlC",
   "metadata": {
    "colab": {
     "base_uri": "https://localhost:8080/",
     "height": 769
    },
    "executionInfo": {
     "elapsed": 9,
     "status": "ok",
     "timestamp": 1667931145498,
     "user": {
      "displayName": "Danagul Azimzhanova",
      "userId": "07294101290954755816"
     },
     "user_tz": -180
    },
    "id": "i04237g7cXlC",
    "outputId": "2a2c898e-189f-448b-f06d-d861257fba8e"
   },
   "outputs": [
    {
     "data": {
      "text/html": [
       "\n",
       "  <div id=\"df-208741fe-649e-45ac-8b5c-7825c55031da\">\n",
       "    <div class=\"colab-df-container\">\n",
       "      <div>\n",
       "<style scoped>\n",
       "    .dataframe tbody tr th:only-of-type {\n",
       "        vertical-align: middle;\n",
       "    }\n",
       "\n",
       "    .dataframe tbody tr th {\n",
       "        vertical-align: top;\n",
       "    }\n",
       "\n",
       "    .dataframe thead th {\n",
       "        text-align: right;\n",
       "    }\n",
       "</style>\n",
       "<table border=\"1\" class=\"dataframe\">\n",
       "  <thead>\n",
       "    <tr style=\"text-align: right;\">\n",
       "      <th></th>\n",
       "      <th>Datetime</th>\n",
       "      <th>Tweet Id</th>\n",
       "      <th>Text</th>\n",
       "      <th>Username</th>\n",
       "      <th>Label</th>\n",
       "      <th>Cleaned_List</th>\n",
       "      <th>Cleaned_Text</th>\n",
       "    </tr>\n",
       "  </thead>\n",
       "  <tbody>\n",
       "    <tr>\n",
       "      <th>0</th>\n",
       "      <td>2022-11-02 23:55:27+00:00</td>\n",
       "      <td>1587956586223378434</td>\n",
       "      <td>@NazaninNour we women of Iran are not protesti...</td>\n",
       "      <td>Luckyluke7958</td>\n",
       "      <td>0</td>\n",
       "      <td>[nazaninnour, woman, iran, protesting, scarf, ...</td>\n",
       "      <td>nazaninnour woman iran protesting scarf protes...</td>\n",
       "    </tr>\n",
       "    <tr>\n",
       "      <th>1</th>\n",
       "      <td>2022-11-02 23:53:21+00:00</td>\n",
       "      <td>1587956057304727552</td>\n",
       "      <td>Biggest BS on social media how different is it...</td>\n",
       "      <td>baburajvarma</td>\n",
       "      <td>0</td>\n",
       "      <td>[biggest, b, social, medium, different, forcin...</td>\n",
       "      <td>biggest b social medium different forcing hija...</td>\n",
       "    </tr>\n",
       "    <tr>\n",
       "      <th>2</th>\n",
       "      <td>2022-11-02 23:46:26+00:00</td>\n",
       "      <td>1587954315687329792</td>\n",
       "      <td>@EvieFangOCPC @freed_panda @mhdksafa Have you ...</td>\n",
       "      <td>msbuttaface</td>\n",
       "      <td>0</td>\n",
       "      <td>[eviefangocpc, freed, panda, mhdksafa, paid, a...</td>\n",
       "      <td>eviefangocpc freed panda mhdksafa paid attenti...</td>\n",
       "    </tr>\n",
       "    <tr>\n",
       "      <th>3</th>\n",
       "      <td>2022-11-02 23:45:48+00:00</td>\n",
       "      <td>1587954155603238913</td>\n",
       "      <td>@AbasAslani Salaam and thank you for your repo...</td>\n",
       "      <td>AtefehKhanoom</td>\n",
       "      <td>1</td>\n",
       "      <td>[abasaslani, salaam, thank, reporting, aghayeh...</td>\n",
       "      <td>abasaslani salaam thank reporting aghayeh asla...</td>\n",
       "    </tr>\n",
       "    <tr>\n",
       "      <th>4</th>\n",
       "      <td>2022-11-02 23:23:48+00:00</td>\n",
       "      <td>1587948618748956672</td>\n",
       "      <td>Hijab is not a cultural issue in Iran. It neve...</td>\n",
       "      <td>BenyaminZargar</td>\n",
       "      <td>1</td>\n",
       "      <td>[hijab, cultural, issue, iran, never, wa, neve...</td>\n",
       "      <td>hijab cultural issue iran never wa never islam...</td>\n",
       "    </tr>\n",
       "    <tr>\n",
       "      <th>...</th>\n",
       "      <td>...</td>\n",
       "      <td>...</td>\n",
       "      <td>...</td>\n",
       "      <td>...</td>\n",
       "      <td>...</td>\n",
       "      <td>...</td>\n",
       "      <td>...</td>\n",
       "    </tr>\n",
       "    <tr>\n",
       "      <th>49996</th>\n",
       "      <td>2022-09-23 18:16:09+00:00</td>\n",
       "      <td>1573375682394357760</td>\n",
       "      <td>@mhluvou The brutal murder of a twenty two yo ...</td>\n",
       "      <td>loui_lovel</td>\n",
       "      <td>0</td>\n",
       "      <td>[mhluvou, brutal, murder, twenty, two, yo, ira...</td>\n",
       "      <td>mhluvou brutal murder twenty two yo iranian wo...</td>\n",
       "    </tr>\n",
       "    <tr>\n",
       "      <th>49997</th>\n",
       "      <td>2022-09-23 18:16:08+00:00</td>\n",
       "      <td>1573375678523002880</td>\n",
       "      <td>The Iranian government is burning the holy Qur...</td>\n",
       "      <td>Nerida_mer</td>\n",
       "      <td>0</td>\n",
       "      <td>[iranian, government, burning, holy, quran, ri...</td>\n",
       "      <td>iranian government burning holy quran ripping ...</td>\n",
       "    </tr>\n",
       "    <tr>\n",
       "      <th>49998</th>\n",
       "      <td>2022-09-23 18:16:01+00:00</td>\n",
       "      <td>1573375650580267008</td>\n",
       "      <td>@mhluvou The brutal murder of a twenty two yo ...</td>\n",
       "      <td>loui_lovel</td>\n",
       "      <td>0</td>\n",
       "      <td>[mhluvou, brutal, murder, twenty, two, yo, ira...</td>\n",
       "      <td>mhluvou brutal murder twenty two yo iranian wo...</td>\n",
       "    </tr>\n",
       "    <tr>\n",
       "      <th>49999</th>\n",
       "      <td>2022-09-23 18:15:53+00:00</td>\n",
       "      <td>1573375614698098688</td>\n",
       "      <td>@mhluvou The brutal murder of a twenty two yo ...</td>\n",
       "      <td>loui_lovel</td>\n",
       "      <td>0</td>\n",
       "      <td>[mhluvou, brutal, murder, twenty, two, yo, ira...</td>\n",
       "      <td>mhluvou brutal murder twenty two yo iranian wo...</td>\n",
       "    </tr>\n",
       "    <tr>\n",
       "      <th>50000</th>\n",
       "      <td>2022-09-23 18:15:46+00:00</td>\n",
       "      <td>1573375586382516224</td>\n",
       "      <td>@mhluvou The brutal murder of a twenty two yo ...</td>\n",
       "      <td>loui_lovel</td>\n",
       "      <td>0</td>\n",
       "      <td>[mhluvou, brutal, murder, twenty, two, yo, ira...</td>\n",
       "      <td>mhluvou brutal murder twenty two yo iranian wo...</td>\n",
       "    </tr>\n",
       "  </tbody>\n",
       "</table>\n",
       "<p>45643 rows × 7 columns</p>\n",
       "</div>\n",
       "      <button class=\"colab-df-convert\" onclick=\"convertToInteractive('df-208741fe-649e-45ac-8b5c-7825c55031da')\"\n",
       "              title=\"Convert this dataframe to an interactive table.\"\n",
       "              style=\"display:none;\">\n",
       "        \n",
       "  <svg xmlns=\"http://www.w3.org/2000/svg\" height=\"24px\"viewBox=\"0 0 24 24\"\n",
       "       width=\"24px\">\n",
       "    <path d=\"M0 0h24v24H0V0z\" fill=\"none\"/>\n",
       "    <path d=\"M18.56 5.44l.94 2.06.94-2.06 2.06-.94-2.06-.94-.94-2.06-.94 2.06-2.06.94zm-11 1L8.5 8.5l.94-2.06 2.06-.94-2.06-.94L8.5 2.5l-.94 2.06-2.06.94zm10 10l.94 2.06.94-2.06 2.06-.94-2.06-.94-.94-2.06-.94 2.06-2.06.94z\"/><path d=\"M17.41 7.96l-1.37-1.37c-.4-.4-.92-.59-1.43-.59-.52 0-1.04.2-1.43.59L10.3 9.45l-7.72 7.72c-.78.78-.78 2.05 0 2.83L4 21.41c.39.39.9.59 1.41.59.51 0 1.02-.2 1.41-.59l7.78-7.78 2.81-2.81c.8-.78.8-2.07 0-2.86zM5.41 20L4 18.59l7.72-7.72 1.47 1.35L5.41 20z\"/>\n",
       "  </svg>\n",
       "      </button>\n",
       "      \n",
       "  <style>\n",
       "    .colab-df-container {\n",
       "      display:flex;\n",
       "      flex-wrap:wrap;\n",
       "      gap: 12px;\n",
       "    }\n",
       "\n",
       "    .colab-df-convert {\n",
       "      background-color: #E8F0FE;\n",
       "      border: none;\n",
       "      border-radius: 50%;\n",
       "      cursor: pointer;\n",
       "      display: none;\n",
       "      fill: #1967D2;\n",
       "      height: 32px;\n",
       "      padding: 0 0 0 0;\n",
       "      width: 32px;\n",
       "    }\n",
       "\n",
       "    .colab-df-convert:hover {\n",
       "      background-color: #E2EBFA;\n",
       "      box-shadow: 0px 1px 2px rgba(60, 64, 67, 0.3), 0px 1px 3px 1px rgba(60, 64, 67, 0.15);\n",
       "      fill: #174EA6;\n",
       "    }\n",
       "\n",
       "    [theme=dark] .colab-df-convert {\n",
       "      background-color: #3B4455;\n",
       "      fill: #D2E3FC;\n",
       "    }\n",
       "\n",
       "    [theme=dark] .colab-df-convert:hover {\n",
       "      background-color: #434B5C;\n",
       "      box-shadow: 0px 1px 3px 1px rgba(0, 0, 0, 0.15);\n",
       "      filter: drop-shadow(0px 1px 2px rgba(0, 0, 0, 0.3));\n",
       "      fill: #FFFFFF;\n",
       "    }\n",
       "  </style>\n",
       "\n",
       "      <script>\n",
       "        const buttonEl =\n",
       "          document.querySelector('#df-208741fe-649e-45ac-8b5c-7825c55031da button.colab-df-convert');\n",
       "        buttonEl.style.display =\n",
       "          google.colab.kernel.accessAllowed ? 'block' : 'none';\n",
       "\n",
       "        async function convertToInteractive(key) {\n",
       "          const element = document.querySelector('#df-208741fe-649e-45ac-8b5c-7825c55031da');\n",
       "          const dataTable =\n",
       "            await google.colab.kernel.invokeFunction('convertToInteractive',\n",
       "                                                     [key], {});\n",
       "          if (!dataTable) return;\n",
       "\n",
       "          const docLinkHtml = 'Like what you see? Visit the ' +\n",
       "            '<a target=\"_blank\" href=https://colab.research.google.com/notebooks/data_table.ipynb>data table notebook</a>'\n",
       "            + ' to learn more about interactive tables.';\n",
       "          element.innerHTML = '';\n",
       "          dataTable['output_type'] = 'display_data';\n",
       "          await google.colab.output.renderOutput(dataTable, element);\n",
       "          const docLink = document.createElement('div');\n",
       "          docLink.innerHTML = docLinkHtml;\n",
       "          element.appendChild(docLink);\n",
       "        }\n",
       "      </script>\n",
       "    </div>\n",
       "  </div>\n",
       "  "
      ],
      "text/plain": [
       "                        Datetime             Tweet Id  \\\n",
       "0      2022-11-02 23:55:27+00:00  1587956586223378434   \n",
       "1      2022-11-02 23:53:21+00:00  1587956057304727552   \n",
       "2      2022-11-02 23:46:26+00:00  1587954315687329792   \n",
       "3      2022-11-02 23:45:48+00:00  1587954155603238913   \n",
       "4      2022-11-02 23:23:48+00:00  1587948618748956672   \n",
       "...                          ...                  ...   \n",
       "49996  2022-09-23 18:16:09+00:00  1573375682394357760   \n",
       "49997  2022-09-23 18:16:08+00:00  1573375678523002880   \n",
       "49998  2022-09-23 18:16:01+00:00  1573375650580267008   \n",
       "49999  2022-09-23 18:15:53+00:00  1573375614698098688   \n",
       "50000  2022-09-23 18:15:46+00:00  1573375586382516224   \n",
       "\n",
       "                                                    Text        Username  \\\n",
       "0      @NazaninNour we women of Iran are not protesti...   Luckyluke7958   \n",
       "1      Biggest BS on social media how different is it...    baburajvarma   \n",
       "2      @EvieFangOCPC @freed_panda @mhdksafa Have you ...     msbuttaface   \n",
       "3      @AbasAslani Salaam and thank you for your repo...   AtefehKhanoom   \n",
       "4      Hijab is not a cultural issue in Iran. It neve...  BenyaminZargar   \n",
       "...                                                  ...             ...   \n",
       "49996  @mhluvou The brutal murder of a twenty two yo ...      loui_lovel   \n",
       "49997  The Iranian government is burning the holy Qur...      Nerida_mer   \n",
       "49998  @mhluvou The brutal murder of a twenty two yo ...      loui_lovel   \n",
       "49999  @mhluvou The brutal murder of a twenty two yo ...      loui_lovel   \n",
       "50000  @mhluvou The brutal murder of a twenty two yo ...      loui_lovel   \n",
       "\n",
       "       Label                                       Cleaned_List  \\\n",
       "0          0  [nazaninnour, woman, iran, protesting, scarf, ...   \n",
       "1          0  [biggest, b, social, medium, different, forcin...   \n",
       "2          0  [eviefangocpc, freed, panda, mhdksafa, paid, a...   \n",
       "3          1  [abasaslani, salaam, thank, reporting, aghayeh...   \n",
       "4          1  [hijab, cultural, issue, iran, never, wa, neve...   \n",
       "...      ...                                                ...   \n",
       "49996      0  [mhluvou, brutal, murder, twenty, two, yo, ira...   \n",
       "49997      0  [iranian, government, burning, holy, quran, ri...   \n",
       "49998      0  [mhluvou, brutal, murder, twenty, two, yo, ira...   \n",
       "49999      0  [mhluvou, brutal, murder, twenty, two, yo, ira...   \n",
       "50000      0  [mhluvou, brutal, murder, twenty, two, yo, ira...   \n",
       "\n",
       "                                            Cleaned_Text  \n",
       "0      nazaninnour woman iran protesting scarf protes...  \n",
       "1      biggest b social medium different forcing hija...  \n",
       "2      eviefangocpc freed panda mhdksafa paid attenti...  \n",
       "3      abasaslani salaam thank reporting aghayeh asla...  \n",
       "4      hijab cultural issue iran never wa never islam...  \n",
       "...                                                  ...  \n",
       "49996  mhluvou brutal murder twenty two yo iranian wo...  \n",
       "49997  iranian government burning holy quran ripping ...  \n",
       "49998  mhluvou brutal murder twenty two yo iranian wo...  \n",
       "49999  mhluvou brutal murder twenty two yo iranian wo...  \n",
       "50000  mhluvou brutal murder twenty two yo iranian wo...  \n",
       "\n",
       "[45643 rows x 7 columns]"
      ]
     },
     "execution_count": 45,
     "metadata": {},
     "output_type": "execute_result"
    }
   ],
   "source": [
    "iran_tweets_df"
   ]
  },
  {
   "cell_type": "markdown",
   "id": "4c8fc20a",
   "metadata": {
    "id": "4c8fc20a"
   },
   "source": [
    "**Display Updated Bar Plots Without Neutral Tweets**"
   ]
  },
  {
   "cell_type": "code",
   "execution_count": 24,
   "id": "df7b78aa",
   "metadata": {
    "colab": {
     "base_uri": "https://localhost:8080/",
     "height": 282
    },
    "executionInfo": {
     "elapsed": 391,
     "status": "ok",
     "timestamp": 1667929578487,
     "user": {
      "displayName": "Danagul Azimzhanova",
      "userId": "07294101290954755816"
     },
     "user_tz": -180
    },
    "id": "df7b78aa",
    "outputId": "0d9b20f2-ad9a-440b-8e92-13cb400d95c1"
   },
   "outputs": [
    {
     "data": {
      "text/plain": [
       "<AxesSubplot:>"
      ]
     },
     "execution_count": 24,
     "metadata": {},
     "output_type": "execute_result"
    },
    {
     "data": {
      "image/png": "[encoded data removed]",
      "text/plain": [
       "<Figure size 432x288 with 1 Axes>"
      ]
     },
     "metadata": {
      "needs_background": "light"
     },
     "output_type": "display_data"
    }
   ],
   "source": [
    "france_tweets_df['Label'].value_counts().plot(kind = 'barh')"
   ]
  },
  {
   "cell_type": "code",
   "execution_count": 25,
   "id": "d55b8537",
   "metadata": {
    "colab": {
     "base_uri": "https://localhost:8080/"
    },
    "executionInfo": {
     "elapsed": 8,
     "status": "ok",
     "timestamp": 1667929581471,
     "user": {
      "displayName": "Danagul Azimzhanova",
      "userId": "07294101290954755816"
     },
     "user_tz": -180
    },
    "id": "d55b8537",
    "outputId": "2132d501-b149-4adf-d934-f4917f483eb2"
   },
   "outputs": [
    {
     "data": {
      "text/plain": [
       "0    20798\n",
       "1     9968\n",
       "Name: Label, dtype: int64"
      ]
     },
     "execution_count": 25,
     "metadata": {},
     "output_type": "execute_result"
    }
   ],
   "source": [
    "france_tweets_df['Label'].value_counts()"
   ]
  },
  {
   "cell_type": "code",
   "execution_count": 26,
   "id": "7af94e26",
   "metadata": {
    "colab": {
     "base_uri": "https://localhost:8080/"
    },
    "executionInfo": {
     "elapsed": 381,
     "status": "ok",
     "timestamp": 1667929583794,
     "user": {
      "displayName": "Danagul Azimzhanova",
      "userId": "07294101290954755816"
     },
     "user_tz": -180
    },
    "id": "7af94e26",
    "outputId": "10306fa0-0f2e-4fec-8ed6-f758d5c7f941"
   },
   "outputs": [
    {
     "data": {
      "text/plain": [
       "0    67.600598\n",
       "1    32.399402\n",
       "Name: Label, dtype: float64"
      ]
     },
     "execution_count": 26,
     "metadata": {},
     "output_type": "execute_result"
    }
   ],
   "source": [
    "(france_tweets_df['Label'].value_counts()/len(france_tweets_df))*100"
   ]
  },
  {
   "cell_type": "code",
   "execution_count": 27,
   "id": "5abb4db2",
   "metadata": {
    "colab": {
     "base_uri": "https://localhost:8080/",
     "height": 282
    },
    "executionInfo": {
     "elapsed": 398,
     "status": "ok",
     "timestamp": 1667929585294,
     "user": {
      "displayName": "Danagul Azimzhanova",
      "userId": "07294101290954755816"
     },
     "user_tz": -180
    },
    "id": "5abb4db2",
    "outputId": "b895922b-3450-4b20-d8a5-407c9138182b"
   },
   "outputs": [
    {
     "data": {
      "text/plain": [
       "<AxesSubplot:>"
      ]
     },
     "execution_count": 27,
     "metadata": {},
     "output_type": "execute_result"
    },
    {
     "data": {
      "image/png": "[encoded data removed]",
      "text/plain": [
       "<Figure size 432x288 with 1 Axes>"
      ]
     },
     "metadata": {
      "needs_background": "light"
     },
     "output_type": "display_data"
    }
   ],
   "source": [
    "iran_tweets_df['Label'].value_counts().plot(kind = 'barh')"
   ]
  },
  {
   "cell_type": "code",
   "execution_count": 28,
   "id": "8622299d",
   "metadata": {
    "colab": {
     "base_uri": "https://localhost:8080/"
    },
    "executionInfo": {
     "elapsed": 3,
     "status": "ok",
     "timestamp": 1667929586132,
     "user": {
      "displayName": "Danagul Azimzhanova",
      "userId": "07294101290954755816"
     },
     "user_tz": -180
    },
    "id": "8622299d",
    "outputId": "30fd54ce-348e-4b19-8e0a-b2f606037117"
   },
   "outputs": [
    {
     "data": {
      "text/plain": [
       "0    77.567206\n",
       "1    22.432794\n",
       "Name: Label, dtype: float64"
      ]
     },
     "execution_count": 28,
     "metadata": {},
     "output_type": "execute_result"
    }
   ],
   "source": [
    "(iran_tweets_df['Label'].value_counts()/len(iran_tweets_df))*100"
   ]
  },
  {
   "cell_type": "code",
   "execution_count": 29,
   "id": "d926ed47",
   "metadata": {
    "id": "d926ed47"
   },
   "outputs": [],
   "source": [
    "\n",
    "def preprocess(text):\n",
    "\n",
    "    stopwords = set(nltk.corpus.stopwords.words('english'))\n",
    "    lemmatizer=nltk.stem.wordnet.WordNetLemmatizer()\n",
    "    \n",
    "    # make text lowercase\n",
    "    text = text.lower()\n",
    "\n",
    "    # handle urls\n",
    "    text = re.sub('http://t.co/\\w{10}|https://t.co/\\w{10}', ' ', text)\n",
    "\n",
    "    # handle ('s)\n",
    "    text1 = re.sub(r\"'s\", '', text)\n",
    "\n",
    "    # handle apostrophes (')\n",
    "    text2 = re.sub(r\"'\", '', text1)\n",
    "\n",
    "    # break on any non-alphanumeric character\n",
    "    text3 = re.sub(r\"[^a-z0-9]\", ' ', text2)\n",
    "\n",
    "    # tokenize the text\n",
    "    tokens = nltk.word_tokenize(text3)\n",
    "\n",
    "    # lemmatize the tokens\n",
    "    lemmatized_tokens = list(map(lambda token: str(lemmatizer.lemmatize(token)), tokens))\n",
    "\n",
    "    # remove stopwords\n",
    "    clean_tokens = [token for token in lemmatized_tokens if not token in stopwords]\n",
    "\n",
    "    return clean_tokens\n",
    "\n"
   ]
  },
  {
   "cell_type": "code",
   "execution_count": 30,
   "id": "d4902937",
   "metadata": {
    "colab": {
     "base_uri": "https://localhost:8080/"
    },
    "executionInfo": {
     "elapsed": 26521,
     "status": "ok",
     "timestamp": 1667930302905,
     "user": {
      "displayName": "Danagul Azimzhanova",
      "userId": "07294101290954755816"
     },
     "user_tz": -180
    },
    "id": "d4902937",
    "outputId": "5c4bccb2-eda9-4334-9f3e-796c7bdf8569"
   },
   "outputs": [
    {
     "name": "stderr",
     "output_type": "stream",
     "text": [
      "C:\\Users\\imaaz\\AppData\\Local\\Temp\\ipykernel_41196\\1216622478.py:11: SettingWithCopyWarning: \n",
      "A value is trying to be set on a copy of a slice from a DataFrame.\n",
      "Try using .loc[row_indexer,col_indexer] = value instead\n",
      "\n",
      "See the caveats in the documentation: https://pandas.pydata.org/pandas-docs/stable/user_guide/indexing.html#returning-a-view-versus-a-copy\n",
      "  france_tweets_df['Cleaned_List'] = cleaned_list_of_list\n",
      "C:\\Users\\imaaz\\AppData\\Local\\Temp\\ipykernel_41196\\1216622478.py:12: SettingWithCopyWarning: \n",
      "A value is trying to be set on a copy of a slice from a DataFrame.\n",
      "Try using .loc[row_indexer,col_indexer] = value instead\n",
      "\n",
      "See the caveats in the documentation: https://pandas.pydata.org/pandas-docs/stable/user_guide/indexing.html#returning-a-view-versus-a-copy\n",
      "  france_tweets_df['Cleaned_Text'] = cleaned_text_list\n"
     ]
    }
   ],
   "source": [
    "cleaned_list_of_list = []\n",
    "cleaned_text_list = []\n",
    "size = france_tweets_df.shape[0]   \n",
    "for i in range(size):       \n",
    "  oldtext = france_tweets_df.iloc[i]['Text']\n",
    "  x = preprocess(oldtext)\n",
    "  cleaned_list_of_list.append(x)\n",
    "  text = ' '.join(x)\n",
    "  cleaned_text_list.append(text)\n",
    "\n",
    "france_tweets_df['Cleaned_List'] = cleaned_list_of_list\n",
    "france_tweets_df['Cleaned_Text'] = cleaned_text_list"
   ]
  },
  {
   "cell_type": "code",
   "execution_count": 31,
   "id": "818f2bfb",
   "metadata": {
    "colab": {
     "base_uri": "https://localhost:8080/"
    },
    "executionInfo": {
     "elapsed": 41460,
     "status": "ok",
     "timestamp": 1667930350778,
     "user": {
      "displayName": "Danagul Azimzhanova",
      "userId": "07294101290954755816"
     },
     "user_tz": -180
    },
    "id": "818f2bfb",
    "outputId": "4640a13f-80a6-498d-b2e5-047153817700"
   },
   "outputs": [
    {
     "name": "stderr",
     "output_type": "stream",
     "text": [
      "C:\\Users\\imaaz\\AppData\\Local\\Temp\\ipykernel_41196\\1567209419.py:11: SettingWithCopyWarning: \n",
      "A value is trying to be set on a copy of a slice from a DataFrame.\n",
      "Try using .loc[row_indexer,col_indexer] = value instead\n",
      "\n",
      "See the caveats in the documentation: https://pandas.pydata.org/pandas-docs/stable/user_guide/indexing.html#returning-a-view-versus-a-copy\n",
      "  iran_tweets_df['Cleaned_List'] = cleaned_list_of_list\n",
      "C:\\Users\\imaaz\\AppData\\Local\\Temp\\ipykernel_41196\\1567209419.py:12: SettingWithCopyWarning: \n",
      "A value is trying to be set on a copy of a slice from a DataFrame.\n",
      "Try using .loc[row_indexer,col_indexer] = value instead\n",
      "\n",
      "See the caveats in the documentation: https://pandas.pydata.org/pandas-docs/stable/user_guide/indexing.html#returning-a-view-versus-a-copy\n",
      "  iran_tweets_df['Cleaned_Text'] = cleaned_text_list\n"
     ]
    }
   ],
   "source": [
    "cleaned_list_of_list = []\n",
    "cleaned_text_list = []\n",
    "size = iran_tweets_df.shape[0]   \n",
    "for i in range(size):       \n",
    "  oldtext = iran_tweets_df.iloc[i]['Text']\n",
    "  x = preprocess(oldtext)\n",
    "  cleaned_list_of_list.append(x)\n",
    "  text = ' '.join(x)\n",
    "  cleaned_text_list.append(text)\n",
    "\n",
    "iran_tweets_df['Cleaned_List'] = cleaned_list_of_list\n",
    "iran_tweets_df['Cleaned_Text'] = cleaned_text_list"
   ]
  },
  {
   "cell_type": "code",
   "execution_count": 32,
   "id": "0305e685",
   "metadata": {
    "colab": {
     "base_uri": "https://localhost:8080/",
     "height": 37
    },
    "executionInfo": {
     "elapsed": 362,
     "status": "ok",
     "timestamp": 1667932578678,
     "user": {
      "displayName": "Danagul Azimzhanova",
      "userId": "07294101290954755816"
     },
     "user_tz": -180
    },
    "id": "0305e685",
    "outputId": "a3db6637-a263-4a5a-a4ca-5ccf134bc0f0"
   },
   "outputs": [
    {
     "data": {
      "text/plain": [
       "'french busy fighting muslim girl hijab country birthplace liberal humanism turning bastion right wing pseudo racist bigotry'"
      ]
     },
     "execution_count": 32,
     "metadata": {},
     "output_type": "execute_result"
    }
   ],
   "source": [
    "france_tweets_df.iloc[1]['Cleaned_List']\n",
    "france_tweets_df.iloc[1]['Cleaned_Text']"
   ]
  },
  {
   "cell_type": "code",
   "execution_count": 33,
   "id": "872245c3",
   "metadata": {
    "colab": {
     "base_uri": "https://localhost:8080/",
     "height": 54
    },
    "executionInfo": {
     "elapsed": 326,
     "status": "ok",
     "timestamp": 1667932593580,
     "user": {
      "displayName": "Danagul Azimzhanova",
      "userId": "07294101290954755816"
     },
     "user_tz": -180
    },
    "id": "872245c3",
    "outputId": "56f568af-7daa-429b-f3b1-838200018a06"
   },
   "outputs": [
    {
     "data": {
      "text/plain": [
       "'nazaninnour woman iran protesting scarf protesting ideology abandoning right protest hijab restricting freedom murdering people stealing resource living like hostage need iran free extremism'"
      ]
     },
     "execution_count": 33,
     "metadata": {},
     "output_type": "execute_result"
    }
   ],
   "source": [
    "iran_tweets_df.iloc[0]['Cleaned_List']\n",
    "iran_tweets_df.iloc[0]['Cleaned_Text']\n"
   ]
  },
  {
   "cell_type": "code",
   "execution_count": 34,
   "id": "5ee5d73a",
   "metadata": {
    "colab": {
     "base_uri": "https://localhost:8080/"
    },
    "executionInfo": {
     "elapsed": 514,
     "status": "ok",
     "timestamp": 1667932603833,
     "user": {
      "displayName": "Danagul Azimzhanova",
      "userId": "07294101290954755816"
     },
     "user_tz": -180
    },
    "id": "5ee5d73a",
    "outputId": "bf338129-c41e-418c-b8d7-bdd9c6ec9e07"
   },
   "outputs": [
    {
     "data": {
      "text/plain": [
       "0        [nazaninnour, woman, iran, protesting, scarf, ...\n",
       "1        [biggest, b, social, medium, different, forcin...\n",
       "2        [eviefangocpc, freed, panda, mhdksafa, paid, a...\n",
       "3        [abasaslani, salaam, thank, reporting, aghayeh...\n",
       "4        [hijab, cultural, issue, iran, never, wa, neve...\n",
       "                               ...                        \n",
       "49996    [mhluvou, brutal, murder, twenty, two, yo, ira...\n",
       "49997    [iranian, government, burning, holy, quran, ri...\n",
       "49998    [mhluvou, brutal, murder, twenty, two, yo, ira...\n",
       "49999    [mhluvou, brutal, murder, twenty, two, yo, ira...\n",
       "50000    [mhluvou, brutal, murder, twenty, two, yo, ira...\n",
       "Name: Cleaned_List, Length: 45643, dtype: object"
      ]
     },
     "execution_count": 34,
     "metadata": {},
     "output_type": "execute_result"
    }
   ],
   "source": [
    "iran_tweets_df['Cleaned_List']"
   ]
  },
  {
   "cell_type": "markdown",
   "id": "384cdc24",
   "metadata": {
    "id": "384cdc24"
   },
   "source": [
    "**Running Models on France Tweets**"
   ]
  },
  {
   "cell_type": "markdown",
   "id": "0c8eea6f",
   "metadata": {
    "id": "0c8eea6f"
   },
   "source": [
    "**1) Baseline Model: Multinomial Naive Bayes**"
   ]
  },
  {
   "cell_type": "code",
   "execution_count": 35,
   "id": "76b0d721",
   "metadata": {
    "id": "76b0d721"
   },
   "outputs": [],
   "source": [
    "france_labels = france_tweets_df['Label']\n",
    "france_X_train, france_X_test, france_y_train, france_y_test = train_test_split(france_tweets_df['Cleaned_Text'], france_labels, test_size=0.3, random_state=42)\n",
    "france_X_train = france_X_train.astype('U').values\n",
    "france_X_test = france_X_test.astype('U').values\n",
    "\n",
    "count_vectorizer = CountVectorizer()\n",
    "count_train = count_vectorizer.fit_transform(france_X_train) \n",
    "count_test = count_vectorizer.transform(france_X_test)\n",
    "\n",
    "tfidf_vectorizer = TfidfVectorizer(stop_words='english', max_df=0.7) \n",
    "tfidf_train = tfidf_vectorizer.fit_transform(france_X_train) \n",
    "tfidf_test = tfidf_vectorizer.transform(france_X_test)"
   ]
  },
  {
   "cell_type": "code",
   "execution_count": 36,
   "id": "2e057033",
   "metadata": {
    "colab": {
     "base_uri": "https://localhost:8080/"
    },
    "executionInfo": {
     "elapsed": 334,
     "status": "ok",
     "timestamp": 1667932621060,
     "user": {
      "displayName": "Danagul Azimzhanova",
      "userId": "07294101290954755816"
     },
     "user_tz": -180
    },
    "id": "2e057033",
    "outputId": "007d90b8-d59f-4370-b952-fa35626db38f"
   },
   "outputs": [
    {
     "name": "stdout",
     "output_type": "stream",
     "text": [
      "Accuracy:  0.812\n",
      "F1 score:  0.765\n",
      "Recall:    0.748\n",
      "Precision: 0.800\n"
     ]
    }
   ],
   "source": [
    "clf = MultinomialNB()  #this is the Naive bayes modelling\n",
    "\n",
    "clf.fit(count_train, france_y_train)\n",
    "pred = clf.predict(count_test)\n",
    "score = accuracy_score(france_y_test, pred)\n",
    "f1 = f1_score(france_y_test, pred, average='binary')\n",
    "print ('Accuracy:  %0.3f' % accuracy_score(france_y_test, pred))\n",
    "print ('F1 score:  %0.3f' % f1_score(france_y_test, pred, average='macro'))\n",
    "print ('Recall:    %0.3f' % recall_score(france_y_test, pred, average='macro'))\n",
    "print ('Precision: %0.3f' % precision_score(france_y_test, pred, average='macro'))"
   ]
  },
  {
   "cell_type": "markdown",
   "id": "2524cf36",
   "metadata": {
    "id": "2524cf36"
   },
   "source": [
    "**2) Support Vector Machine (SVM)**"
   ]
  },
  {
   "cell_type": "code",
   "execution_count": 37,
   "id": "f8bf080b",
   "metadata": {
    "colab": {
     "base_uri": "https://localhost:8080/"
    },
    "executionInfo": {
     "elapsed": 105078,
     "status": "ok",
     "timestamp": 1667932735944,
     "user": {
      "displayName": "Danagul Azimzhanova",
      "userId": "07294101290954755816"
     },
     "user_tz": -180
    },
    "id": "f8bf080b",
    "outputId": "eed68a38-5bf4-4551-f9c0-936464212821"
   },
   "outputs": [
    {
     "name": "stdout",
     "output_type": "stream",
     "text": [
      "Accuracy:  0.856\n",
      "F1 score:  0.828\n",
      "Recall:    0.817\n",
      "Precision: 0.843\n"
     ]
    }
   ],
   "source": [
    "SVM = svm.SVC(C=1.0, kernel='linear', gamma='auto')\n",
    "SVM.fit(tfidf_train,france_y_train)\n",
    "pred = SVM.predict(tfidf_test)\n",
    "\n",
    "print ('Accuracy:  %0.3f' % accuracy_score(france_y_test, pred))\n",
    "print ('F1 score:  %0.3f' % f1_score(france_y_test, pred, average='macro'))\n",
    "print ('Recall:    %0.3f' % recall_score(france_y_test, pred, average='macro'))\n",
    "print ('Precision: %0.3f' % precision_score(france_y_test, pred, average='macro'))"
   ]
  },
  {
   "cell_type": "markdown",
   "id": "sGXW6egqodkA",
   "metadata": {
    "id": "sGXW6egqodkA"
   },
   "source": [
    "**LSTM Classifier**"
   ]
  },
  {
   "cell_type": "markdown",
   "id": "4f26371c",
   "metadata": {},
   "source": [
    "The LSTM Classifier is inspired by the following link\n",
    "https://towardsdatascience.com/sentiment-analysis-using-lstm-step-by-step-50d074f09948\n"
   ]
  },
  {
   "cell_type": "code",
   "execution_count": null,
   "id": "r0ngpA_4ocoS",
   "metadata": {
    "id": "r0ngpA_4ocoS"
   },
   "outputs": [],
   "source": [
    "words = france_tweets_df.iloc[:]['Cleaned_List'].tolist()"
   ]
  },
  {
   "cell_type": "code",
   "execution_count": null,
   "id": "lZpIHDdnor2F",
   "metadata": {
    "id": "lZpIHDdnor2F"
   },
   "outputs": [],
   "source": [
    "all_words=[]\n",
    "for i in words:\n",
    "  all_words += i"
   ]
  },
  {
   "cell_type": "code",
   "execution_count": null,
   "id": "r_UxorRMosli",
   "metadata": {
    "id": "r_UxorRMosli"
   },
   "outputs": [],
   "source": [
    "count_words = Counter(all_words)"
   ]
  },
  {
   "cell_type": "code",
   "execution_count": null,
   "id": "zl8u4ZWApsAi",
   "metadata": {
    "id": "zl8u4ZWApsAi"
   },
   "outputs": [],
   "source": [
    "total_words = len(all_words)\n",
    "sorted_words = count_words.most_common(total_words)"
   ]
  },
  {
   "cell_type": "code",
   "execution_count": null,
   "id": "q8cHmyGwp76r",
   "metadata": {
    "id": "q8cHmyGwp76r"
   },
   "outputs": [],
   "source": [
    "vocab_to_int = {w:i+1 for i, (w,c) in enumerate(sorted_words)}"
   ]
  },
  {
   "cell_type": "code",
   "execution_count": null,
   "id": "Q3gqny3ep9ML",
   "metadata": {
    "colab": {
     "base_uri": "https://localhost:8080/"
    },
    "executionInfo": {
     "elapsed": 1577,
     "status": "ok",
     "timestamp": 1667951495390,
     "user": {
      "displayName": "Danagul Azimzhanova",
      "userId": "07294101290954755816"
     },
     "user_tz": -180
    },
    "id": "Q3gqny3ep9ML",
    "outputId": "c0792c6e-9b93-4745-a7bf-da0fe6e6465f"
   },
   "outputs": [],
   "source": [
    "print(vocab_to_int)"
   ]
  },
  {
   "cell_type": "code",
   "execution_count": null,
   "id": "Yvlp88zHq0mc",
   "metadata": {
    "id": "Yvlp88zHq0mc"
   },
   "outputs": [],
   "source": [
    "tweets_split = france_tweets_df.iloc[:]['Cleaned_Text'].tolist()"
   ]
  },
  {
   "cell_type": "code",
   "execution_count": null,
   "id": "BkXA4IGgrDmq",
   "metadata": {
    "colab": {
     "base_uri": "https://localhost:8080/"
    },
    "executionInfo": {
     "elapsed": 550,
     "status": "ok",
     "timestamp": 1667951776210,
     "user": {
      "displayName": "Danagul Azimzhanova",
      "userId": "07294101290954755816"
     },
     "user_tz": -180
    },
    "id": "BkXA4IGgrDmq",
    "outputId": "27830c5d-694e-4f38-c4bd-1b92246d0146"
   },
   "outputs": [
    {
     "name": "stdout",
     "output_type": "stream",
     "text": [
      "[[10155, 10156, 8016, 10157, 10158, 261, 10159, 15034, 31, 407, 351, 958, 68, 311, 54, 112, 120, 114, 718, 2, 2029, 36, 1389, 10, 103, 9, 1, 58, 58], [3, 2512, 335, 6, 25, 1, 10, 10160, 254, 15035, 2513, 3339, 12, 923, 3189, 100, 883], [15036, 312, 991, 377, 42, 959, 2, 11, 1442]]\n"
     ]
    }
   ],
   "source": [
    "tweets_int = []\n",
    "for tweet in tweets_split:\n",
    "    t = [vocab_to_int[w] for w in tweet.split()]\n",
    "    tweets_int.append(t)\n",
    "print (tweets_int[0:3])"
   ]
  },
  {
   "cell_type": "code",
   "execution_count": null,
   "id": "wCPcQ7vhrNSD",
   "metadata": {
    "id": "wCPcQ7vhrNSD"
   },
   "outputs": [],
   "source": [
    "labels_split = france_tweets_df.iloc[:]['Label'].tolist()"
   ]
  },
  {
   "cell_type": "code",
   "execution_count": null,
   "id": "y3zOmvJNrZ5y",
   "metadata": {
    "colab": {
     "base_uri": "https://localhost:8080/",
     "height": 421
    },
    "executionInfo": {
     "elapsed": 411,
     "status": "ok",
     "timestamp": 1667951867937,
     "user": {
      "displayName": "Danagul Azimzhanova",
      "userId": "07294101290954755816"
     },
     "user_tz": -180
    },
    "id": "y3zOmvJNrZ5y",
    "outputId": "a8a4a85d-4eff-40d4-e0a9-ab2ac9d8b4b3"
   },
   "outputs": [
    {
     "data": {
      "text/plain": [
       "count    30766.000000\n",
       "mean        17.091205\n",
       "std          7.772463\n",
       "min          2.000000\n",
       "25%         11.000000\n",
       "50%         15.000000\n",
       "75%         23.000000\n",
       "max         87.000000\n",
       "dtype: float64"
      ]
     },
     "execution_count": 237,
     "metadata": {},
     "output_type": "execute_result"
    },
    {
     "data": {
      "image/png": "[encoded data removed]",
      "text/plain": [
       "<Figure size 432x288 with 1 Axes>"
      ]
     },
     "metadata": {},
     "output_type": "display_data"
    }
   ],
   "source": [
    "tweets_len = [len(x) for x in tweets_int]\n",
    "pd.Series(tweets_len).hist()\n",
    "pd.Series(tweets_len).describe()"
   ]
  },
  {
   "cell_type": "code",
   "execution_count": null,
   "id": "h6166-tLrkOU",
   "metadata": {
    "id": "h6166-tLrkOU"
   },
   "outputs": [],
   "source": [
    "tweets_int = [tweets_int[i] for i, l in enumerate(tweets_len) if l>0 ]\n",
    "labels_split = [labels_split[i] for i, l in enumerate(tweets_len) if l> 0 ]"
   ]
  },
  {
   "cell_type": "code",
   "execution_count": null,
   "id": "vPpketQ3rsjN",
   "metadata": {
    "id": "vPpketQ3rsjN"
   },
   "outputs": [],
   "source": [
    "features = pad_features(tweets_int, 30)"
   ]
  },
  {
   "cell_type": "code",
   "execution_count": null,
   "id": "ukIsVl9Wru6h",
   "metadata": {
    "id": "ukIsVl9Wru6h"
   },
   "outputs": [],
   "source": [
    "len_feat = len(features)"
   ]
  },
  {
   "cell_type": "code",
   "execution_count": null,
   "id": "Zhm8hP-zsFcB",
   "metadata": {
    "id": "Zhm8hP-zsFcB"
   },
   "outputs": [],
   "source": [
    "labels_split = np.array(labels_split)\n",
    "split_frac = 0.8"
   ]
  },
  {
   "cell_type": "code",
   "execution_count": null,
   "id": "1QloDghFsjJ7",
   "metadata": {
    "id": "1QloDghFsjJ7"
   },
   "outputs": [],
   "source": [
    "train_x = features[0:int(split_frac*len_feat)]\n",
    "train_y = labels_split[0:int(split_frac*len_feat)]\n",
    "remaining_x = features[int(split_frac*len_feat):]\n",
    "remaining_y = labels_split[int(split_frac*len_feat):]\n",
    "valid_x = remaining_x[0:int(len(remaining_x)*0.5)]\n",
    "valid_y = remaining_y[0:int(len(remaining_y)*0.5)]\n",
    "test_x = remaining_x[int(len(remaining_x)*0.5):]\n",
    "test_y = remaining_y[int(len(remaining_y)*0.5):]"
   ]
  },
  {
   "cell_type": "code",
   "execution_count": null,
   "id": "bgI1IAIItaY8",
   "metadata": {
    "id": "bgI1IAIItaY8"
   },
   "outputs": [],
   "source": [
    "import torch\n",
    "from torch.utils.data import DataLoader, TensorDataset\n",
    "# create Tensor datasets\n",
    "train_data = TensorDataset(torch.from_numpy(train_x), torch.from_numpy(train_y))\n",
    "valid_data = TensorDataset(torch.from_numpy(valid_x), torch.from_numpy(valid_y))\n",
    "test_data = TensorDataset(torch.from_numpy(test_x), torch.from_numpy(test_y))\n",
    "# dataloaders\n",
    "batch_size = 50\n",
    "# make sure to SHUFFLE your data\n",
    "train_loader = DataLoader(train_data, shuffle=True, batch_size=batch_size, drop_last=True)\n",
    "valid_loader = DataLoader(valid_data, shuffle=True, batch_size=batch_size, drop_last=True)\n",
    "test_loader = DataLoader(test_data, shuffle=True, batch_size=batch_size, drop_last=True)"
   ]
  },
  {
   "cell_type": "code",
   "execution_count": null,
   "id": "uyd-Rj-gt0rQ",
   "metadata": {
    "colab": {
     "base_uri": "https://localhost:8080/"
    },
    "executionInfo": {
     "elapsed": 384,
     "status": "ok",
     "timestamp": 1667952499765,
     "user": {
      "displayName": "Danagul Azimzhanova",
      "userId": "07294101290954755816"
     },
     "user_tz": -180
    },
    "id": "uyd-Rj-gt0rQ",
    "outputId": "80e954b9-65c4-45e1-d500-6be4d1b77887"
   },
   "outputs": [
    {
     "name": "stdout",
     "output_type": "stream",
     "text": [
      "Sample input size:  torch.Size([50, 30])\n",
      "Sample input: \n",
      " tensor([[    0,     0,     0,  ...,   796,   208,     1],\n",
      "        [    0,     0,     0,  ...,     3,   269,     2],\n",
      "        [    0,     0,     0,  ...,   375,     2,   930],\n",
      "        ...,\n",
      "        [    0,     0,     0,  ...,     2,    53,  2681],\n",
      "        [  884,  1004, 26952,  ...,  4014,   164,    26],\n",
      "        [    0,     0,     0,  ...,  1175,  1009,   752]])\n",
      "\n",
      "Sample label size:  torch.Size([50])\n",
      "Sample label: \n",
      " tensor([0, 0, 0, 0, 1, 0, 0, 1, 0, 0, 0, 0, 1, 0, 1, 0, 0, 0, 1, 0, 1, 0, 1, 0,\n",
      "        0, 1, 0, 0, 0, 1, 1, 0, 0, 1, 0, 0, 0, 1, 0, 1, 0, 1, 0, 0, 0, 1, 0, 1,\n",
      "        0, 0])\n"
     ]
    }
   ],
   "source": [
    "# obtain one batch of training data\n",
    "dataiter = iter(train_loader)\n",
    "sample_x, sample_y = dataiter.next()\n",
    "print('Sample input size: ', sample_x.size()) # batch_size, seq_length\n",
    "print('Sample input: \\n', sample_x)\n",
    "print()\n",
    "print('Sample label size: ', sample_y.size()) # batch_size\n",
    "print('Sample label: \\n', sample_y)"
   ]
  },
  {
   "cell_type": "code",
   "execution_count": null,
   "id": "ZzgqkonLuHHZ",
   "metadata": {
    "colab": {
     "base_uri": "https://localhost:8080/"
    },
    "executionInfo": {
     "elapsed": 972,
     "status": "ok",
     "timestamp": 1667952575893,
     "user": {
      "displayName": "Danagul Azimzhanova",
      "userId": "07294101290954755816"
     },
     "user_tz": -180
    },
    "id": "ZzgqkonLuHHZ",
    "outputId": "b27a2112-a3e3-4ba9-9806-fd013665cb18"
   },
   "outputs": [
    {
     "name": "stdout",
     "output_type": "stream",
     "text": [
      "SentimentLSTM(\n",
      "  (embedding): Embedding(39876, 400)\n",
      "  (lstm): LSTM(400, 256, num_layers=2, batch_first=True, dropout=0.5)\n",
      "  (dropout): Dropout(p=0.3, inplace=False)\n",
      "  (fc): Linear(in_features=256, out_features=1, bias=True)\n",
      "  (sig): Sigmoid()\n",
      ")\n"
     ]
    }
   ],
   "source": [
    "# Instantiate the model w/ hyperparams\n",
    "vocab_size = len(vocab_to_int)+1 # +1 for the 0 padding\n",
    "output_size = 1\n",
    "embedding_dim = 400\n",
    "hidden_dim = 256\n",
    "n_layers = 2\n",
    "net = SentimentLSTM(vocab_size, output_size, embedding_dim, hidden_dim, n_layers)\n",
    "print(net)"
   ]
  },
  {
   "cell_type": "code",
   "execution_count": null,
   "id": "pLvCuFaPuSey",
   "metadata": {
    "colab": {
     "background_save": true,
     "base_uri": "https://localhost:8080/"
    },
    "id": "pLvCuFaPuSey",
    "outputId": "5196e402-f1a9-496a-922c-33ab5f1f9007"
   },
   "outputs": [
    {
     "name": "stdout",
     "output_type": "stream",
     "text": [
      "Epoch: 1/5... Step: 100... Loss: 0.089119... Val Loss: 0.807771\n",
      "Epoch: 1/5... Step: 200... Loss: 0.006949... Val Loss: 0.847586\n",
      "Epoch: 1/5... Step: 300... Loss: 0.011968... Val Loss: 0.862222\n",
      "Epoch: 1/5... Step: 400... Loss: 0.027679... Val Loss: 0.870197\n",
      "Epoch: 2/5... Step: 500... Loss: 0.019135... Val Loss: 0.804624\n",
      "Epoch: 2/5... Step: 600... Loss: 0.006427... Val Loss: 0.965559\n",
      "Epoch: 2/5... Step: 700... Loss: 0.009143... Val Loss: 0.965944\n",
      "Epoch: 2/5... Step: 800... Loss: 0.052481... Val Loss: 1.017847\n",
      "Epoch: 2/5... Step: 900... Loss: 0.010671... Val Loss: 1.053834\n",
      "Epoch: 3/5... Step: 1000... Loss: 0.026325... Val Loss: 1.131342\n",
      "Epoch: 3/5... Step: 1100... Loss: 0.000598... Val Loss: 1.061130\n",
      "Epoch: 3/5... Step: 1200... Loss: 0.008778... Val Loss: 1.005851\n",
      "Epoch: 3/5... Step: 1300... Loss: 0.114802... Val Loss: 1.009028\n",
      "Epoch: 3/5... Step: 1400... Loss: 0.021281... Val Loss: 0.871418\n",
      "Epoch: 4/5... Step: 1500... Loss: 0.002145... Val Loss: 0.865509\n",
      "Epoch: 4/5... Step: 1600... Loss: 0.002704... Val Loss: 1.116520\n",
      "Epoch: 4/5... Step: 1700... Loss: 0.005154... Val Loss: 1.297756\n",
      "Epoch: 4/5... Step: 1800... Loss: 0.001288... Val Loss: 1.166335\n",
      "Epoch: 4/5... Step: 1900... Loss: 0.003621... Val Loss: 1.045725\n",
      "Epoch: 5/5... Step: 2000... Loss: 0.000710... Val Loss: 1.199717\n",
      "Epoch: 5/5... Step: 2100... Loss: 0.003768... Val Loss: 1.087625\n",
      "Epoch: 5/5... Step: 2200... Loss: 0.000504... Val Loss: 1.120853\n",
      "Epoch: 5/5... Step: 2300... Loss: 0.000312... Val Loss: 1.201690\n",
      "Epoch: 5/5... Step: 2400... Loss: 0.006912... Val Loss: 1.001458\n"
     ]
    }
   ],
   "source": [
    "lr=0.001\n",
    "\n",
    "criterion = nn.BCELoss()\n",
    "optimizer = torch.optim.Adam(net.parameters(), lr=lr)\n",
    "\n",
    "\n",
    "# training params\n",
    "\n",
    "epochs = 5 # 3-4 is approx where I noticed the validation loss stop decreasing\n",
    "\n",
    "counter = 0\n",
    "print_every = 100\n",
    "clip=5 # gradient clipping\n",
    "\n",
    "net.train()\n",
    "# train for some number of epochs\n",
    "for e in range(epochs):\n",
    "    # initialize hidden state\n",
    "    h = net.init_hidden(batch_size)\n",
    "\n",
    "    # batch loop\n",
    "    for inputs, labels in train_loader:\n",
    "        counter += 1\n",
    "\n",
    "        \n",
    "\n",
    "        # Creating new variables for the hidden state, otherwise\n",
    "        # we'd backprop through the entire training history\n",
    "        h = tuple([each.data for each in h])\n",
    "\n",
    "        # zero accumulated gradients\n",
    "        net.zero_grad()\n",
    "\n",
    "        # get the output from the model\n",
    "        inputs = inputs.type(torch.LongTensor)\n",
    "        output, h = net(inputs, h)\n",
    "\n",
    "        # calculate the loss and perform backprop\n",
    "        loss = criterion(output.squeeze(), labels.float())\n",
    "        loss.backward()\n",
    "\n",
    "        # `clip_grad_norm` helps prevent the exploding gradient problem in RNNs / LSTMs.\n",
    "        nn.utils.clip_grad_norm_(net.parameters(), clip)\n",
    "        optimizer.step()\n",
    "\n",
    "        # loss stats\n",
    "        if counter % print_every == 0:\n",
    "          \n",
    "            # Get validation loss\n",
    "            val_h = net.init_hidden(batch_size)\n",
    "            val_losses = []\n",
    "            net.eval()\n",
    "            for inputs, labels in valid_loader:\n",
    "\n",
    "                # Creating new variables for the hidden state, otherwise\n",
    "                # we'd backprop through the entire training history\n",
    "                val_h = tuple([each.data for each in val_h])\n",
    "\n",
    "                \n",
    "                inputs = inputs.type(torch.LongTensor)\n",
    "                output, val_h = net(inputs, val_h)\n",
    "                val_loss = criterion(output.squeeze(), labels.float())\n",
    "\n",
    "                val_losses.append(val_loss.item())\n",
    "\n",
    "            net.train()\n",
    "            print(\"Epoch: {}/{}...\".format(e+1, epochs),\n",
    "                  \"Step: {}...\".format(counter),\n",
    "                  \"Loss: {:.6f}...\".format(loss.item()),\n",
    "                  \"Val Loss: {:.6f}\".format(np.mean(val_losses)))"
   ]
  },
  {
   "cell_type": "code",
   "execution_count": null,
   "id": "k-XplWcR0vmf",
   "metadata": {
    "colab": {
     "base_uri": "https://localhost:8080/"
    },
    "executionInfo": {
     "elapsed": 11688,
     "status": "ok",
     "timestamp": 1667954330987,
     "user": {
      "displayName": "Danagul Azimzhanova",
      "userId": "07294101290954755816"
     },
     "user_tz": -180
    },
    "id": "k-XplWcR0vmf",
    "outputId": "4104f884-2fef-4ca3-9c52-7a13b332f07f"
   },
   "outputs": [
    {
     "name": "stdout",
     "output_type": "stream",
     "text": [
      "Test loss: 1.341\n",
      "Test accuracy: 0.669\n"
     ]
    }
   ],
   "source": [
    "# Get test data loss and accuracy\n",
    "\n",
    "test_losses = [] # track loss\n",
    "num_correct = 0\n",
    "\n",
    "# init hidden state\n",
    "h = net.init_hidden(batch_size)\n",
    "\n",
    "net.eval()\n",
    "# iterate over test data\n",
    "for inputs, labels in test_loader:\n",
    "\n",
    "    # Creating new variables for the hidden state, otherwise\n",
    "    # we'd backprop through the entire training history\n",
    "    h = tuple([each.data for each in h])\n",
    "\n",
    "    \n",
    "    # get predicted outputs\n",
    "    inputs = inputs.type(torch.LongTensor)\n",
    "    output, h = net(inputs, h)\n",
    "    \n",
    "    # calculate loss\n",
    "    test_loss = criterion(output.squeeze(), labels.float())\n",
    "    test_losses.append(test_loss.item())\n",
    "    \n",
    "    # convert output probabilities to predicted class (0 or 1)\n",
    "    pred = torch.round(output.squeeze())  # rounds to the nearest integer\n",
    "    \n",
    "    # compare predictions to true label\n",
    "    correct_tensor = pred.eq(labels.float().view_as(pred))\n",
    "    correct = np.squeeze(correct_tensor.numpy()) \n",
    "    num_correct += np.sum(correct)\n",
    "\n",
    "\n",
    "print(\"Test loss: {:.3f}\".format(np.mean(test_losses)))\n",
    "\n",
    "test_acc = num_correct/len(test_loader.dataset)\n",
    "print(\"Test accuracy: {:.3f}\".format(test_acc))"
   ]
  },
  {
   "cell_type": "markdown",
   "id": "e2f2c727",
   "metadata": {
    "id": "e2f2c727"
   },
   "source": [
    "**Running Models on Iran Tweets**"
   ]
  },
  {
   "cell_type": "markdown",
   "id": "76b288e3",
   "metadata": {
    "id": "76b288e3"
   },
   "source": [
    "**1) Baseline Model: Multinomial Naive Bayes**"
   ]
  },
  {
   "cell_type": "code",
   "execution_count": null,
   "id": "ca492b0e",
   "metadata": {
    "id": "ca492b0e"
   },
   "outputs": [],
   "source": [
    "iran_labels = iran_tweets_df['Label']\n",
    "iran_X_train, iran_X_test, iran_y_train, iran_y_test = train_test_split(iran_tweets_df['Cleaned_Text'], iran_labels, test_size=0.3, random_state=42)\n",
    "iran_X_train = iran_X_train.astype('U').values\n",
    "iran_X_test = iran_X_test.astype('U').values\n",
    "\n",
    "count_vectorizer = CountVectorizer()\n",
    "count_train = count_vectorizer.fit_transform(iran_X_train) \n",
    "count_test = count_vectorizer.transform(iran_X_test)\n",
    "\n",
    "tfidf_vectorizer = TfidfVectorizer(stop_words='english', max_df=0.7) \n",
    "tfidf_train = tfidf_vectorizer.fit_transform(iran_X_train) \n",
    "tfidf_test = tfidf_vectorizer.transform(iran_X_test)"
   ]
  },
  {
   "cell_type": "code",
   "execution_count": null,
   "id": "22f80be0",
   "metadata": {
    "id": "22f80be0",
    "outputId": "d31fdac9-fdbd-4954-b65c-ed2d6b9d033e"
   },
   "outputs": [
    {
     "name": "stdout",
     "output_type": "stream",
     "text": [
      "Accuracy:  0.763\n",
      "F1 score:  0.724\n",
      "Recall:    0.803\n",
      "Precision: 0.716\n"
     ]
    }
   ],
   "source": [
    "clf = MultinomialNB()  #this is the Naive bayes modelling\n",
    "\n",
    "clf.fit(count_train, iran_y_train)\n",
    "pred = clf.predict(count_test)\n",
    "score = accuracy_score(iran_y_test, pred)\n",
    "f1 = f1_score(iran_y_test, pred, average='binary')\n",
    "print ('Accuracy:  %0.3f' % accuracy_score(iran_y_test, pred))\n",
    "print ('F1 score:  %0.3f' % f1_score(iran_y_test, pred, average='macro'))\n",
    "print ('Recall:    %0.3f' % recall_score(iran_y_test, pred, average='macro'))\n",
    "print ('Precision: %0.3f' % precision_score(iran_y_test, pred, average='macro'))"
   ]
  },
  {
   "cell_type": "markdown",
   "id": "668cb8fe",
   "metadata": {
    "id": "668cb8fe"
   },
   "source": [
    "**2) Support Vector Machine (SVM)**"
   ]
  },
  {
   "cell_type": "code",
   "execution_count": null,
   "id": "23751bd7",
   "metadata": {
    "id": "23751bd7",
    "outputId": "ba22fed4-aeb7-491a-a513-24308fd4d4bf"
   },
   "outputs": [
    {
     "name": "stdout",
     "output_type": "stream",
     "text": [
      "Accuracy:  0.905\n",
      "F1 score:  0.857\n",
      "Recall:    0.843\n",
      "Precision: 0.873\n"
     ]
    }
   ],
   "source": [
    "SVM = svm.SVC(C=1.0, kernel='linear', gamma='auto')\n",
    "SVM.fit(tfidf_train,iran_y_train)\n",
    "pred = SVM.predict(tfidf_test)\n",
    "\n",
    "print ('Accuracy:  %0.3f' % accuracy_score(iran_y_test, pred))\n",
    "print ('F1 score:  %0.3f' % f1_score(iran_y_test, pred, average='macro'))\n",
    "print ('Recall:    %0.3f' % recall_score(iran_y_test, pred, average='macro'))\n",
    "print ('Precision: %0.3f' % precision_score(iran_y_test, pred, average='macro'))"
   ]
  },
  {
   "cell_type": "code",
   "execution_count": null,
   "id": "3ac5b2d9",
   "metadata": {
    "id": "3ac5b2d9"
   },
   "outputs": [],
   "source": [
    "import keras\n",
    "from sklearn import preprocessing\n",
    "from keras import Sequential\n",
    "from keras.layers import Dense, Softmax\n",
    "from tensorflow.keras.preprocessing.sequence import pad_sequences\n",
    "from tensorflow.keras.layers import Embedding\n",
    "from tensorflow.keras.layers import LSTM\n",
    "from tensorflow.keras.layers import Bidirectional\n",
    "from tensorflow.keras.layers import Dropout\n",
    "from tensorflow.keras.preprocessing.text import Tokenizer\n",
    "from keras.callbacks import EarlyStopping\n",
    "from tensorflow.keras.utils import to_categorical\n",
    "\n",
    "import numpy as np"
   ]
  },
  {
   "cell_type": "code",
   "execution_count": null,
   "id": "a3a4bec9",
   "metadata": {
    "id": "a3a4bec9",
    "outputId": "8581d998-b27f-4fcd-ab2e-1173185b100d"
   },
   "outputs": [
    {
     "name": "stdout",
     "output_type": "stream",
     "text": [
      "Model: \"sequential_12\"\n",
      "_________________________________________________________________\n",
      " Layer (type)                Output Shape              Param #   \n",
      "=================================================================\n",
      " embedding_12 (Embedding)    (None, 18, 256)           10208256  \n",
      "                                                                 \n",
      " dropout_20 (Dropout)        (None, 18, 256)           0         \n",
      "                                                                 \n",
      " lstm_11 (LSTM)              (None, 100)               142800    \n",
      "                                                                 \n",
      " dropout_21 (Dropout)        (None, 100)               0         \n",
      "                                                                 \n",
      " dense_11 (Dense)            (None, 2)                 202       \n",
      "                                                                 \n",
      "=================================================================\n",
      "Total params: 10,351,258\n",
      "Trainable params: 10,351,258\n",
      "Non-trainable params: 0\n",
      "_________________________________________________________________\n",
      "None\n",
      "Epoch 1/10\n",
      "103/103 [==============================] - 29s 257ms/step - loss: 0.4880 - accuracy: 0.7593\n",
      "Epoch 2/10\n",
      "103/103 [==============================] - 27s 258ms/step - loss: 0.2658 - accuracy: 0.8946\n",
      "Epoch 3/10\n",
      "103/103 [==============================] - 28s 273ms/step - loss: 0.1668 - accuracy: 0.9368\n",
      "Epoch 4/10\n",
      "103/103 [==============================] - 27s 264ms/step - loss: 0.1118 - accuracy: 0.9601\n",
      "Epoch 5/10\n",
      "103/103 [==============================] - 30s 291ms/step - loss: 0.0772 - accuracy: 0.9728\n",
      "Epoch 6/10\n",
      "103/103 [==============================] - 34s 326ms/step - loss: 0.0615 - accuracy: 0.9774\n",
      "Epoch 7/10\n",
      "103/103 [==============================] - 43s 421ms/step - loss: 0.0465 - accuracy: 0.9845\n",
      "Epoch 8/10\n",
      "103/103 [==============================] - 31s 297ms/step - loss: 0.0348 - accuracy: 0.9889\n",
      "Epoch 9/10\n",
      "103/103 [==============================] - 31s 304ms/step - loss: 0.0290 - accuracy: 0.9900\n",
      "Epoch 10/10\n",
      "103/103 [==============================] - 26s 251ms/step - loss: 0.0242 - accuracy: 0.9921\n",
      "145/145 [==============================] - 2s 14ms/step\n",
      "Accuracy Score :  0.799349945828819\n",
      "Precision Score :  0.799349945828819\n",
      "Recall Score :  0.799349945828819\n",
      "F1 Score :  0.799349945828819\n"
     ]
    }
   ],
   "source": [
    "y=france_tweets_df['Label']       #here we store the labels of the dataframe to be used later in y\n",
    "\n",
    "MAIN_FILE_copy = france_tweets_df.copy()   \n",
    "\n",
    "x_data = MAIN_FILE_copy['Cleaned_List']       \n",
    "\n",
    "        \n",
    "label_encoder = preprocessing.LabelEncoder()  \n",
    "y_data = label_encoder.fit_transform(y)\n",
    " \n",
    "encoder = Tokenizer()  \n",
    "encoder.fit_on_texts(x_data) \n",
    "x_train = encoder.texts_to_sequences(x_data) \n",
    "total_words = len(encoder.word_index) + 1   \n",
    "\n",
    "def get_max_length():\n",
    "    review_length = []\n",
    "    for review in x_train:\n",
    "        review_length.append(len(review))\n",
    "\n",
    "    return int(np.ceil(np.mean(review_length)))\n",
    "MAX_SEQUENCE_LENGTH=get_max_length()\n",
    "\n",
    "# MAX_SEQUENCE_LENGTH\n",
    "x_train = pad_sequences(x_train, maxlen=MAX_SEQUENCE_LENGTH, value=0, padding='post', truncating='post')\n",
    "\n",
    "# print(x_train.shape)\n",
    "\n",
    "# y_data.shape\n",
    "\n",
    "embedding_vector_features = 256\n",
    "VOCAB_SIZE=total_words\n",
    "# VOCAB_SIZE\n",
    "\n",
    "model1 = Sequential()\n",
    "model1.add(Embedding(VOCAB_SIZE,embedding_vector_features,input_length=MAX_SEQUENCE_LENGTH))\n",
    "model1.add(Dropout(0.2))\n",
    "model1.add(LSTM(100))\n",
    "# model1.add(LSTM(300, dropout_U=0.2,dropout_W=0.2))\n",
    "model1.add(Dropout(0.2))\n",
    "model1.add(Dense(2, activation='softmax'))\n",
    "\n",
    "model1.compile(loss='binary_crossentropy',\n",
    "              optimizer='adam',\n",
    "              metrics=['accuracy'])\n",
    "                   \n",
    "print(model1.summary())\n",
    "\n",
    "\n",
    "# es = EarlyStopping(monitor='val_loss', mode='min', verbose=1, patience=10) #this is used for early stopping when the generalization error starts to decrease\n",
    "\n",
    "X_train, X_test, Y_train, Y_test = train_test_split(x_train,to_categorical(y_data), test_size=0.15, random_state=1)\n",
    "\n",
    "# model1.fit(X_train,Y_train,validation_split=0.15,epochs=20,batch_size=128)\n",
    "model1.fit(X_train,Y_train,epochs=10,batch_size=256)\n",
    "\n",
    "\n",
    "predict_x1=model1.predict(X_test) \n",
    "classes_x1=np.argmax(predict_x1,axis=1)\n",
    "\n",
    "print(\"Accuracy Score : \",accuracy_score(Y_test,to_categorical(classes_x1)))\n",
    "print(\"Precision Score : \",precision_score(Y_test,to_categorical(classes_x1), \n",
    "                                           average='micro'))\n",
    "print(\"Recall Score : \",recall_score(Y_test,to_categorical(classes_x1), \n",
    "                                           average='micro'))\n",
    "print(\"F1 Score : \",f1_score(Y_test,to_categorical(classes_x1), \n",
    "                                           average='micro'))"
   ]
  },
  {
   "cell_type": "markdown",
   "id": "vruoTNjn5GWU",
   "metadata": {
    "id": "vruoTNjn5GWU"
   },
   "source": [
    "**LSTM classifier**"
   ]
  },
  {
   "cell_type": "markdown",
   "id": "623ea59d",
   "metadata": {},
   "source": [
    "The LSTM Classifier is inspired by the following link\n",
    "https://towardsdatascience.com/sentiment-analysis-using-lstm-step-by-step-50d074f09948\n"
   ]
  },
  {
   "cell_type": "code",
   "execution_count": null,
   "id": "-hH7WzzmwBZy",
   "metadata": {
    "id": "-hH7WzzmwBZy"
   },
   "outputs": [],
   "source": [
    "words = iran_tweets_df.iloc[:]['Cleaned_List'].tolist()"
   ]
  },
  {
   "cell_type": "code",
   "execution_count": null,
   "id": "o0G3skdgxrZu",
   "metadata": {
    "id": "o0G3skdgxrZu"
   },
   "outputs": [],
   "source": [
    "all_words=[]\n",
    "for i in words:\n",
    "  all_words += i"
   ]
  },
  {
   "cell_type": "code",
   "execution_count": null,
   "id": "KwN9RdDT0PZa",
   "metadata": {
    "id": "KwN9RdDT0PZa"
   },
   "outputs": [],
   "source": [
    "count_words = Counter(all_words)\n"
   ]
  },
  {
   "cell_type": "code",
   "execution_count": null,
   "id": "YvwM4RWl0VdJ",
   "metadata": {
    "colab": {
     "base_uri": "https://localhost:8080/"
    },
    "executionInfo": {
     "elapsed": 1232,
     "status": "ok",
     "timestamp": 1667937439329,
     "user": {
      "displayName": "Danagul Azimzhanova",
      "userId": "07294101290954755816"
     },
     "user_tz": -180
    },
    "id": "YvwM4RWl0VdJ",
    "outputId": "70d3d2af-49b1-424e-b6a0-c91e7a639ebc"
   },
   "outputs": [],
   "source": [
    "print(count_words)"
   ]
  },
  {
   "cell_type": "code",
   "execution_count": null,
   "id": "klr4L-mR0dOm",
   "metadata": {
    "id": "klr4L-mR0dOm"
   },
   "outputs": [],
   "source": [
    "total_words = len(all_words)\n",
    "sorted_words = count_words.most_common(total_words)"
   ]
  },
  {
   "cell_type": "code",
   "execution_count": null,
   "id": "D2vYPgVz0tqv",
   "metadata": {
    "id": "D2vYPgVz0tqv"
   },
   "outputs": [],
   "source": [
    "vocab_to_int = {w:i+1 for i, (w,c) in enumerate(sorted_words)}"
   ]
  },
  {
   "cell_type": "code",
   "execution_count": null,
   "id": "3ncrw3dK0xyz",
   "metadata": {
    "colab": {
     "base_uri": "https://localhost:8080/"
    },
    "executionInfo": {
     "elapsed": 1355,
     "status": "ok",
     "timestamp": 1667937544996,
     "user": {
      "displayName": "Danagul Azimzhanova",
      "userId": "07294101290954755816"
     },
     "user_tz": -180
    },
    "id": "3ncrw3dK0xyz",
    "outputId": "957ed84b-e422-4415-a0bf-dd83d7accef1"
   },
   "outputs": [],
   "source": [
    "print (vocab_to_int)"
   ]
  },
  {
   "cell_type": "code",
   "execution_count": null,
   "id": "jmKl8ibF1HHo",
   "metadata": {
    "id": "jmKl8ibF1HHo"
   },
   "outputs": [],
   "source": [
    "tweets_split = iran_tweets_df.iloc[:]['Cleaned_Text'].tolist()"
   ]
  },
  {
   "cell_type": "code",
   "execution_count": null,
   "id": "qAQYiWpg02-x",
   "metadata": {
    "colab": {
     "base_uri": "https://localhost:8080/"
    },
    "executionInfo": {
     "elapsed": 2160,
     "status": "ok",
     "timestamp": 1667949376555,
     "user": {
      "displayName": "Danagul Azimzhanova",
      "userId": "07294101290954755816"
     },
     "user_tz": -180
    },
    "id": "qAQYiWpg02-x",
    "outputId": "4ae4e702-c2b1-4ba7-e8c4-c19958d21db6"
   },
   "outputs": [
    {
     "name": "stdout",
     "output_type": "stream",
     "text": [
      "[[1369, 3, 2, 56, 215, 56, 688, 17229, 38, 9, 1, 3584, 47, 289, 30, 3191, 2529, 165, 57, 1945, 70, 2, 100, 1838], [943, 559, 394, 147, 299, 230, 1, 17230, 17231, 545, 59, 231, 6478, 59, 343, 4781, 2, 2893, 2893], [17232, 3585, 12101, 612, 1023, 709, 102, 189, 2, 2290, 320, 595, 49, 80, 37, 5, 8, 2291, 50, 1263, 34, 2, 41, 31, 1]]\n"
     ]
    }
   ],
   "source": [
    "tweets_int = []\n",
    "for tweet in tweets_split:\n",
    "    t = [vocab_to_int[w] for w in tweet.split()]\n",
    "    tweets_int.append(t)\n",
    "print (tweets_int[0:3])"
   ]
  },
  {
   "cell_type": "code",
   "execution_count": null,
   "id": "8Hjew_md7TJq",
   "metadata": {
    "id": "8Hjew_md7TJq"
   },
   "outputs": [],
   "source": [
    "labels_split = iran_tweets_df.iloc[:]['Label'].tolist()"
   ]
  },
  {
   "cell_type": "code",
   "execution_count": null,
   "id": "xFnot3lM7qbS",
   "metadata": {
    "colab": {
     "base_uri": "https://localhost:8080/",
     "height": 418
    },
    "executionInfo": {
     "elapsed": 376,
     "status": "ok",
     "timestamp": 1667949545407,
     "user": {
      "displayName": "Danagul Azimzhanova",
      "userId": "07294101290954755816"
     },
     "user_tz": -180
    },
    "id": "xFnot3lM7qbS",
    "outputId": "dd8a5909-5e8a-4360-8756-6cd6c7a091ff"
   },
   "outputs": [
    {
     "data": {
      "text/plain": [
       "count    45643.000000\n",
       "mean        21.122867\n",
       "std          6.965245\n",
       "min          3.000000\n",
       "25%         16.000000\n",
       "50%         22.000000\n",
       "75%         26.000000\n",
       "max         89.000000\n",
       "dtype: float64"
      ]
     },
     "execution_count": 210,
     "metadata": {},
     "output_type": "execute_result"
    },
    {
     "data": {
      "image/png": "[encoded data removed]",
      "text/plain": [
       "<Figure size 432x288 with 1 Axes>"
      ]
     },
     "metadata": {},
     "output_type": "display_data"
    }
   ],
   "source": [
    "tweets_len = [len(x) for x in tweets_int]\n",
    "pd.Series(tweets_len).hist()\n",
    "pd.Series(tweets_len).describe()"
   ]
  },
  {
   "cell_type": "code",
   "execution_count": null,
   "id": "fetMRs9075da",
   "metadata": {
    "id": "fetMRs9075da"
   },
   "outputs": [],
   "source": [
    "tweets_int = [tweets_int[i] for i, l in enumerate(tweets_len) if l>0 ]\n",
    "labels_split = [labels_split[i] for i, l in enumerate(tweets_len) if l> 0 ]"
   ]
  },
  {
   "cell_type": "code",
   "execution_count": null,
   "id": "90Q-7Nry8Lhp",
   "metadata": {
    "id": "90Q-7Nry8Lhp"
   },
   "outputs": [],
   "source": [
    "def pad_features(tweets_int, seq_length):\n",
    "    features = np.zeros((len(tweets_int), seq_length), dtype = int)\n",
    "    \n",
    "    for i, tweet in enumerate(tweets_int):\n",
    "        tweet_len = len(tweet)\n",
    "        \n",
    "        if tweet_len <= seq_length:\n",
    "            final = list(np.zeros(seq_length-tweet_len)) + tweet\n",
    "        if tweet_len > seq_length:\n",
    "            final = tweet[0:seq_length]\n",
    "        \n",
    "        features[i,:] = np.array(final)\n",
    "    return features"
   ]
  },
  {
   "cell_type": "code",
   "execution_count": null,
   "id": "QrteXEkv9mSB",
   "metadata": {
    "id": "QrteXEkv9mSB"
   },
   "outputs": [],
   "source": [
    "features = pad_features(tweets_int, 30)"
   ]
  },
  {
   "cell_type": "code",
   "execution_count": null,
   "id": "TdctEKIqCRtA",
   "metadata": {
    "id": "TdctEKIqCRtA"
   },
   "outputs": [],
   "source": [
    "len_feat = len(features)"
   ]
  },
  {
   "cell_type": "code",
   "execution_count": null,
   "id": "cXsG_YPxCr7A",
   "metadata": {
    "id": "cXsG_YPxCr7A"
   },
   "outputs": [],
   "source": [
    "labels_split = np.array(labels_split)\n",
    "split_frac = 0.8"
   ]
  },
  {
   "cell_type": "code",
   "execution_count": null,
   "id": "2qsNeQIKB2yi",
   "metadata": {
    "id": "2qsNeQIKB2yi"
   },
   "outputs": [],
   "source": [
    "train_x = features[0:int(split_frac*len_feat)]\n",
    "train_y = labels_split[0:int(split_frac*len_feat)]\n",
    "remaining_x = features[int(split_frac*len_feat):]\n",
    "remaining_y = labels_split[int(split_frac*len_feat):]\n",
    "valid_x = remaining_x[0:int(len(remaining_x)*0.5)]\n",
    "valid_y = remaining_y[0:int(len(remaining_y)*0.5)]\n",
    "test_x = remaining_x[int(len(remaining_x)*0.5):]\n",
    "test_y = remaining_y[int(len(remaining_y)*0.5):]"
   ]
  },
  {
   "cell_type": "code",
   "execution_count": null,
   "id": "kQCo1v45CeMx",
   "metadata": {
    "id": "kQCo1v45CeMx"
   },
   "outputs": [],
   "source": [
    "import torch\n",
    "from torch.utils.data import DataLoader, TensorDataset\n",
    "# create Tensor datasets\n",
    "train_data = TensorDataset(torch.from_numpy(train_x), torch.from_numpy(train_y))\n",
    "valid_data = TensorDataset(torch.from_numpy(valid_x), torch.from_numpy(valid_y))\n",
    "test_data = TensorDataset(torch.from_numpy(test_x), torch.from_numpy(test_y))\n",
    "# dataloaders\n",
    "batch_size = 50\n",
    "# make sure to SHUFFLE your data\n",
    "train_loader = DataLoader(train_data, shuffle=True, batch_size=batch_size, drop_last=True)\n",
    "valid_loader = DataLoader(valid_data, shuffle=True, batch_size=batch_size, drop_last=True)\n",
    "test_loader = DataLoader(test_data, shuffle=True, batch_size=batch_size, drop_last=True)"
   ]
  },
  {
   "cell_type": "code",
   "execution_count": null,
   "id": "m9zYyuk2C2Dr",
   "metadata": {
    "colab": {
     "base_uri": "https://localhost:8080/"
    },
    "executionInfo": {
     "elapsed": 543,
     "status": "ok",
     "timestamp": 1667949777105,
     "user": {
      "displayName": "Danagul Azimzhanova",
      "userId": "07294101290954755816"
     },
     "user_tz": -180
    },
    "id": "m9zYyuk2C2Dr",
    "outputId": "a8916d7d-01a8-42b8-e328-22fb8633d8ab"
   },
   "outputs": [
    {
     "name": "stdout",
     "output_type": "stream",
     "text": [
      "Sample input size:  torch.Size([50, 30])\n",
      "Sample input: \n",
      " tensor([[   0,    0,    0,  ...,   61,    1,    2],\n",
      "        [   0,    0,    0,  ...,    8,    1,   13],\n",
      "        [   0,    0,    0,  ...,    6,   22,    1],\n",
      "        ...,\n",
      "        [   0,    0,    0,  ..., 1218,   61,    1],\n",
      "        [   0,    0,    0,  ...,  242,  992,   64],\n",
      "        [ 986, 2470,   16,  ...,    1, 2288,    2]])\n",
      "\n",
      "Sample label size:  torch.Size([50])\n",
      "Sample label: \n",
      " tensor([0, 0, 0, 0, 1, 0, 0, 1, 0, 1, 0, 0, 0, 1, 0, 0, 0, 0, 1, 1, 0, 0, 0, 1,\n",
      "        0, 0, 1, 0, 1, 1, 0, 0, 0, 0, 1, 0, 0, 0, 0, 0, 0, 1, 0, 0, 1, 1, 0, 0,\n",
      "        0, 1])\n"
     ]
    }
   ],
   "source": [
    "# obtain one batch of training data\n",
    "dataiter = iter(train_loader)\n",
    "sample_x, sample_y = dataiter.next()\n",
    "print('Sample input size: ', sample_x.size()) # batch_size, seq_length\n",
    "print('Sample input: \\n', sample_x)\n",
    "print()\n",
    "print('Sample label size: ', sample_y.size()) # batch_size\n",
    "print('Sample label: \\n', sample_y)"
   ]
  },
  {
   "cell_type": "code",
   "execution_count": null,
   "id": "VtSyZNnJC8Wc",
   "metadata": {
    "id": "VtSyZNnJC8Wc"
   },
   "outputs": [],
   "source": [
    "import torch.nn as nn\n",
    "\n",
    "class SentimentLSTM(nn.Module):\n",
    "    \"\"\"\n",
    "    The RNN model that will be used to perform Sentiment analysis.\n",
    "    \"\"\"\n",
    "\n",
    "    def __init__(self, vocab_size, output_size, embedding_dim, hidden_dim, n_layers, drop_prob=0.5):\n",
    "        \"\"\"\n",
    "        Initialize the model by setting up the layers.\n",
    "        \"\"\"\n",
    "        super().__init__()\n",
    "\n",
    "        self.output_size = output_size\n",
    "        self.n_layers = n_layers\n",
    "        self.hidden_dim = hidden_dim\n",
    "        \n",
    "        # embedding and LSTM layers\n",
    "        self.embedding = nn.Embedding(vocab_size, embedding_dim)\n",
    "        self.lstm = nn.LSTM(embedding_dim, hidden_dim, n_layers, \n",
    "                            dropout=drop_prob, batch_first=True)\n",
    "        \n",
    "        # dropout layer\n",
    "        self.dropout = nn.Dropout(0.3)\n",
    "        \n",
    "        # linear and sigmoid layers\n",
    "        self.fc = nn.Linear(hidden_dim, output_size)\n",
    "        self.sig = nn.Sigmoid()\n",
    "        \n",
    "\n",
    "    def forward(self, x, hidden):\n",
    "        \"\"\"\n",
    "        Perform a forward pass of our model on some input and hidden state.\n",
    "        \"\"\"\n",
    "        batch_size = x.size(0)\n",
    "\n",
    "        # embeddings and lstm_out\n",
    "        embeds = self.embedding(x)\n",
    "        lstm_out, hidden = self.lstm(embeds, hidden)\n",
    "    \n",
    "        # stack up lstm outputs\n",
    "        lstm_out = lstm_out.contiguous().view(-1, self.hidden_dim)\n",
    "        \n",
    "        # dropout and fully-connected layer\n",
    "        out = self.dropout(lstm_out)\n",
    "        out = self.fc(out)\n",
    "        # sigmoid function\n",
    "        sig_out = self.sig(out)\n",
    "        \n",
    "        # reshape to be batch_size first\n",
    "        sig_out = sig_out.view(batch_size, -1)\n",
    "        sig_out = sig_out[:, -1] # get last batch of labels\n",
    "        \n",
    "        # return last sigmoid output and hidden state\n",
    "        return sig_out, hidden\n",
    "    \n",
    "    \n",
    "    def init_hidden(self, batch_size):\n",
    "        ''' Initializes hidden state '''\n",
    "        # Create two new tensors with sizes n_layers x batch_size x hidden_dim,\n",
    "        # initialized to zero, for hidden state and cell state of LSTM\n",
    "        weight = next(self.parameters()).data\n",
    "        \n",
    "        hidden = (weight.new(self.n_layers, batch_size, self.hidden_dim).zero_(),\n",
    "                      weight.new(self.n_layers, batch_size, self.hidden_dim).zero_())\n",
    "        \n",
    "        return hidden"
   ]
  },
  {
   "cell_type": "code",
   "execution_count": null,
   "id": "87DrBiBNDALc",
   "metadata": {
    "colab": {
     "base_uri": "https://localhost:8080/"
    },
    "executionInfo": {
     "elapsed": 332,
     "status": "ok",
     "timestamp": 1667943393193,
     "user": {
      "displayName": "Danagul Azimzhanova",
      "userId": "07294101290954755816"
     },
     "user_tz": -180
    },
    "id": "87DrBiBNDALc",
    "outputId": "a4195b6d-7965-4000-ffac-262bbc07395c"
   },
   "outputs": [
    {
     "name": "stdout",
     "output_type": "stream",
     "text": [
      "SentimentLSTM(\n",
      "  (embedding): Embedding(39277, 400)\n",
      "  (lstm): LSTM(400, 256, num_layers=2, batch_first=True, dropout=0.5)\n",
      "  (dropout): Dropout(p=0.3, inplace=False)\n",
      "  (fc): Linear(in_features=256, out_features=1, bias=True)\n",
      "  (sig): Sigmoid()\n",
      ")\n"
     ]
    }
   ],
   "source": [
    "# Instantiate the model w/ hyperparams\n",
    "vocab_size = len(vocab_to_int)+1 # +1 for the 0 padding\n",
    "output_size = 1\n",
    "embedding_dim = 400\n",
    "hidden_dim = 256\n",
    "n_layers = 2\n",
    "net = SentimentLSTM(vocab_size, output_size, embedding_dim, hidden_dim, n_layers)\n",
    "print(net)"
   ]
  },
  {
   "cell_type": "code",
   "execution_count": null,
   "id": "5qHbItolFbHR",
   "metadata": {
    "colab": {
     "base_uri": "https://localhost:8080/"
    },
    "executionInfo": {
     "elapsed": 1732635,
     "status": "ok",
     "timestamp": 1667945131186,
     "user": {
      "displayName": "Danagul Azimzhanova",
      "userId": "07294101290954755816"
     },
     "user_tz": -180
    },
    "id": "5qHbItolFbHR",
    "outputId": "1b6a1321-e698-4767-9438-0892225dd3e5"
   },
   "outputs": [
    {
     "name": "stdout",
     "output_type": "stream",
     "text": [
      "Epoch: 1/4... Step: 100... Loss: 0.307541... Val Loss: 0.284881\n",
      "Epoch: 1/4... Step: 200... Loss: 0.384841... Val Loss: 0.222723\n",
      "Epoch: 1/4... Step: 300... Loss: 0.305224... Val Loss: 0.225170\n",
      "Epoch: 1/4... Step: 400... Loss: 0.255924... Val Loss: 0.203279\n",
      "Epoch: 1/4... Step: 500... Loss: 0.143513... Val Loss: 0.186928\n",
      "Epoch: 1/4... Step: 600... Loss: 0.223067... Val Loss: 0.176927\n",
      "Epoch: 1/4... Step: 700... Loss: 0.357101... Val Loss: 0.176385\n",
      "Epoch: 2/4... Step: 800... Loss: 0.148030... Val Loss: 0.193056\n",
      "Epoch: 2/4... Step: 900... Loss: 0.254959... Val Loss: 0.186279\n",
      "Epoch: 2/4... Step: 1000... Loss: 0.285703... Val Loss: 0.176976\n",
      "Epoch: 2/4... Step: 1100... Loss: 0.243520... Val Loss: 0.172181\n",
      "Epoch: 2/4... Step: 1200... Loss: 0.172536... Val Loss: 0.177232\n",
      "Epoch: 2/4... Step: 1300... Loss: 0.287967... Val Loss: 0.177781\n",
      "Epoch: 2/4... Step: 1400... Loss: 0.211402... Val Loss: 0.166205\n",
      "Epoch: 3/4... Step: 1500... Loss: 0.202412... Val Loss: 0.199175\n",
      "Epoch: 3/4... Step: 1600... Loss: 0.015891... Val Loss: 0.196955\n",
      "Epoch: 3/4... Step: 1700... Loss: 0.027496... Val Loss: 0.196143\n",
      "Epoch: 3/4... Step: 1800... Loss: 0.143412... Val Loss: 0.192953\n",
      "Epoch: 3/4... Step: 1900... Loss: 0.111344... Val Loss: 0.189016\n",
      "Epoch: 3/4... Step: 2000... Loss: 0.141795... Val Loss: 0.224374\n",
      "Epoch: 3/4... Step: 2100... Loss: 0.168398... Val Loss: 0.172750\n",
      "Epoch: 4/4... Step: 2200... Loss: 0.054313... Val Loss: 0.192247\n",
      "Epoch: 4/4... Step: 2300... Loss: 0.024632... Val Loss: 0.283886\n",
      "Epoch: 4/4... Step: 2400... Loss: 0.056873... Val Loss: 0.211098\n",
      "Epoch: 4/4... Step: 2500... Loss: 0.071292... Val Loss: 0.220841\n",
      "Epoch: 4/4... Step: 2600... Loss: 0.048383... Val Loss: 0.227724\n",
      "Epoch: 4/4... Step: 2700... Loss: 0.074555... Val Loss: 0.228331\n",
      "Epoch: 4/4... Step: 2800... Loss: 0.039876... Val Loss: 0.260411\n",
      "Epoch: 4/4... Step: 2900... Loss: 0.072615... Val Loss: 0.232023\n"
     ]
    }
   ],
   "source": [
    "lr=0.001\n",
    "\n",
    "criterion = nn.BCELoss()\n",
    "optimizer = torch.optim.Adam(net.parameters(), lr=lr)\n",
    "\n",
    "\n",
    "# training params\n",
    "\n",
    "epochs = 4 # 3-4 is approx where I noticed the validation loss stop decreasing\n",
    "\n",
    "counter = 0\n",
    "print_every = 100\n",
    "clip=5 # gradient clipping\n",
    "\n",
    "net.train()\n",
    "# train for some number of epochs\n",
    "for e in range(epochs):\n",
    "    # initialize hidden state\n",
    "    h = net.init_hidden(batch_size)\n",
    "\n",
    "    # batch loop\n",
    "    for inputs, labels in train_loader:\n",
    "        counter += 1\n",
    "\n",
    "        \n",
    "\n",
    "        # Creating new variables for the hidden state, otherwise\n",
    "        # we'd backprop through the entire training history\n",
    "        h = tuple([each.data for each in h])\n",
    "\n",
    "        # zero accumulated gradients\n",
    "        net.zero_grad()\n",
    "\n",
    "        # get the output from the model\n",
    "        inputs = inputs.type(torch.LongTensor)\n",
    "        output, h = net(inputs, h)\n",
    "\n",
    "        # calculate the loss and perform backprop\n",
    "        loss = criterion(output.squeeze(), labels.float())\n",
    "        loss.backward()\n",
    "\n",
    "        # `clip_grad_norm` helps prevent the exploding gradient problem in RNNs / LSTMs.\n",
    "        nn.utils.clip_grad_norm_(net.parameters(), clip)\n",
    "        optimizer.step()\n",
    "\n",
    "        # loss stats\n",
    "        if counter % print_every == 0:\n",
    "          \n",
    "            # Get validation loss\n",
    "            val_h = net.init_hidden(batch_size)\n",
    "            val_losses = []\n",
    "            net.eval()\n",
    "            for inputs, labels in valid_loader:\n",
    "\n",
    "                # Creating new variables for the hidden state, otherwise\n",
    "                # we'd backprop through the entire training history\n",
    "                val_h = tuple([each.data for each in val_h])\n",
    "\n",
    "                \n",
    "                inputs = inputs.type(torch.LongTensor)\n",
    "                output, val_h = net(inputs, val_h)\n",
    "                val_loss = criterion(output.squeeze(), labels.float())\n",
    "\n",
    "                val_losses.append(val_loss.item())\n",
    "\n",
    "            net.train()\n",
    "            print(\"Epoch: {}/{}...\".format(e+1, epochs),\n",
    "                  \"Step: {}...\".format(counter),\n",
    "                  \"Loss: {:.6f}...\".format(loss.item()),\n",
    "                  \"Val Loss: {:.6f}\".format(np.mean(val_losses)))"
   ]
  },
  {
   "cell_type": "code",
   "execution_count": null,
   "id": "ZPnOeuwASGJ1",
   "metadata": {
    "colab": {
     "base_uri": "https://localhost:8080/"
    },
    "executionInfo": {
     "elapsed": 8714,
     "status": "ok",
     "timestamp": 1667945324390,
     "user": {
      "displayName": "Danagul Azimzhanova",
      "userId": "07294101290954755816"
     },
     "user_tz": -180
    },
    "id": "ZPnOeuwASGJ1",
    "outputId": "c46b6a2e-7b89-4706-95bf-c3459eca86f5"
   },
   "outputs": [
    {
     "name": "stdout",
     "output_type": "stream",
     "text": [
      "Test loss: 0.250\n",
      "Test accuracy: 0.933\n"
     ]
    }
   ],
   "source": [
    "# Get test data loss and accuracy\n",
    "\n",
    "test_losses = [] # track loss\n",
    "num_correct = 0\n",
    "\n",
    "# init hidden state\n",
    "h = net.init_hidden(batch_size)\n",
    "\n",
    "net.eval()\n",
    "# iterate over test data\n",
    "for inputs, labels in test_loader:\n",
    "\n",
    "    # Creating new variables for the hidden state, otherwise\n",
    "    # we'd backprop through the entire training history\n",
    "    h = tuple([each.data for each in h])\n",
    "\n",
    "    \n",
    "    # get predicted outputs\n",
    "    inputs = inputs.type(torch.LongTensor)\n",
    "    output, h = net(inputs, h)\n",
    "    \n",
    "    # calculate loss\n",
    "    test_loss = criterion(output.squeeze(), labels.float())\n",
    "    test_losses.append(test_loss.item())\n",
    "    \n",
    "    # convert output probabilities to predicted class (0 or 1)\n",
    "    pred = torch.round(output.squeeze())  # rounds to the nearest integer\n",
    "    \n",
    "    # compare predictions to true label\n",
    "    correct_tensor = pred.eq(labels.float().view_as(pred))\n",
    "    correct = np.squeeze(correct_tensor.numpy()) \n",
    "    num_correct += np.sum(correct)\n",
    "\n",
    "\n",
    "# -- stats! -- ##\n",
    "# avg test loss\n",
    "print(\"Test loss: {:.3f}\".format(np.mean(test_losses)))\n",
    "\n",
    "# accuracy over all test data\n",
    "test_acc = num_correct/len(test_loader.dataset)\n",
    "print(\"Test accuracy: {:.3f}\".format(test_acc))"
   ]
  },
  {
   "cell_type": "code",
   "execution_count": null,
   "id": "FiCJJnwwjs0L",
   "metadata": {
    "colab": {
     "base_uri": "https://localhost:8080/",
     "height": 232
    },
    "executionInfo": {
     "elapsed": 1576,
     "status": "error",
     "timestamp": 1667950042064,
     "user": {
      "displayName": "Danagul Azimzhanova",
      "userId": "07294101290954755816"
     },
     "user_tz": -180
    },
    "id": "FiCJJnwwjs0L",
    "outputId": "255c0552-0ce9-4187-aff7-52c956e6fb22"
   },
   "outputs": [
    {
     "ename": "NameError",
     "evalue": "ignored",
     "output_type": "error",
     "traceback": [
      "\u001b[0;31m---------------------------------------------------------------------------\u001b[0m",
      "\u001b[0;31mNameError\u001b[0m                                 Traceback (most recent call last)",
      "\u001b[0;32m<ipython-input-223-8d17b823615e>\u001b[0m in \u001b[0;36m<module>\u001b[0;34m\u001b[0m\n\u001b[1;32m      3\u001b[0m                     \u001b[0membedding_size\u001b[0m\u001b[0;34m,\u001b[0m\u001b[0;34m\u001b[0m\u001b[0;34m\u001b[0m\u001b[0m\n\u001b[1;32m      4\u001b[0m                     input_length=30))\n\u001b[0;32m----> 5\u001b[0;31m \u001b[0mmodel3\u001b[0m\u001b[0;34m.\u001b[0m\u001b[0madd\u001b[0m\u001b[0;34m(\u001b[0m\u001b[0mLSTM\u001b[0m\u001b[0;34m(\u001b[0m\u001b[0;36m64\u001b[0m\u001b[0;34m)\u001b[0m\u001b[0;34m)\u001b[0m\u001b[0;34m\u001b[0m\u001b[0;34m\u001b[0m\u001b[0m\n\u001b[0m\u001b[1;32m      6\u001b[0m \u001b[0mmodel3\u001b[0m\u001b[0;34m.\u001b[0m\u001b[0madd\u001b[0m\u001b[0;34m(\u001b[0m\u001b[0mDense\u001b[0m\u001b[0;34m(\u001b[0m\u001b[0;36m100\u001b[0m\u001b[0;34m)\u001b[0m\u001b[0;34m)\u001b[0m\u001b[0;34m\u001b[0m\u001b[0;34m\u001b[0m\u001b[0m\n\u001b[1;32m      7\u001b[0m \u001b[0mmodel3\u001b[0m\u001b[0;34m.\u001b[0m\u001b[0madd\u001b[0m\u001b[0;34m(\u001b[0m\u001b[0mDense\u001b[0m\u001b[0;34m(\u001b[0m\u001b[0;36m2\u001b[0m\u001b[0;34m,\u001b[0m \u001b[0mactivation\u001b[0m\u001b[0;34m=\u001b[0m\u001b[0;34m'sigmoid'\u001b[0m\u001b[0;34m)\u001b[0m\u001b[0;34m)\u001b[0m\u001b[0;34m\u001b[0m\u001b[0;34m\u001b[0m\u001b[0m\n",
      "\u001b[0;31mNameError\u001b[0m: name 'LSTM' is not defined"
     ]
    }
   ],
   "source": [
    "model3 = Sequential()\n",
    "model3.add(Embedding(total_words,\n",
    "                    embedding_size,\n",
    "                    input_length=30))\n",
    "model3.add(LSTM(64))\n",
    "model3.add(Dense(100))\n",
    "model3.add(Dense(2, activation='sigmoid'))\n",
    "\n",
    "model3.compile(loss='binary_crossentropy',\n",
    "              optimizer='adam',\n",
    "              metrics=['acc'])\n",
    "\n",
    "mc_lstm= ModelCheckpoint('best_model_lstm.h5', monitor='val_loss', mode='min', save_best_only=True,verbose=1)  \n",
    "\n",
    "lstm_history=model3.fit(x_train, to_categorical(y_train), epochs=5, validation_split=0.05, callbacks=[es,mc_lstm])\n",
    "\n",
    "loss, acc = model3.evaluate(x_test, to_categorical(y_test))\n",
    "print(\"Test accuracy: %0.2f%%\"%(acc*100))"
   ]
  }
 ],
 "metadata": {
  "colab": {
   "collapsed_sections": [],
   "provenance": []
  },
  "kernelspec": {
   "display_name": "Python 3 (ipykernel)",
   "language": "python",
   "name": "python3"
  },
  "language_info": {
   "codemirror_mode": {
    "name": "ipython",
    "version": 3
   },
   "file_extension": ".py",
   "mimetype": "text/x-python",
   "name": "python",
   "nbconvert_exporter": "python",
   "pygments_lexer": "ipython3",
   "version": "3.9.12"
  },
  "vscode": {
   "interpreter": {
    "hash": "a7e58a1171d3a53e46a41187f9f0b4d8f56c30e5c1cfc23c489c6f10424b5894"
   }
  }
 },
 "nbformat": 4,
 "nbformat_minor": 5
}
